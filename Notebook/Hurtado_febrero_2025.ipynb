{
 "cells": [
  {
   "cell_type": "markdown",
   "metadata": {
    "application/vnd.databricks.v1+cell": {
     "cellMetadata": {
      "byteLimit": 2048000,
      "rowLimit": 10000
     },
     "inputWidgets": {},
     "nuid": "7fa6cb21-c01d-46f6-ad5e-c6e211365813",
     "showTitle": false,
     "tableResultSettingsMap": {},
     "title": ""
    }
   },
   "source": [
    "**Autor:R.** Hurtado                  \n",
    "\n",
    "**Materia:** Procesamiento de Datos \n",
    "                            \n",
    "**Topico:** Introduccion a PySpark en el Ambiente Databricks"
   ]
  },
  {
   "cell_type": "code",
   "execution_count": 0,
   "metadata": {
    "application/vnd.databricks.v1+cell": {
     "cellMetadata": {
      "byteLimit": 2048000,
      "rowLimit": 10000
     },
     "inputWidgets": {},
     "nuid": "5a12cae4-efed-4cf7-86b7-80474528a6dd",
     "showTitle": false,
     "tableResultSettingsMap": {},
     "title": ""
    }
   },
   "outputs": [],
   "source": [
    "import numpy as np\n",
    "import matplotlib.pyplot as plt\n",
    "import seaborn as sns\n",
    "\n",
    "from pyspark.sql import SparkSession\n",
    "from pyspark.sql.functions import *\n",
    "from pyspark.sql import functions as F\n",
    "from pyspark.sql.types import *\n",
    "from pyspark.sql import SQLContext"
   ]
  },
  {
   "cell_type": "code",
   "execution_count": 0,
   "metadata": {
    "application/vnd.databricks.v1+cell": {
     "cellMetadata": {
      "byteLimit": 2048000,
      "rowLimit": 10000
     },
     "inputWidgets": {},
     "nuid": "e30a9b59-abc8-4f78-b86a-d7e74f069cca",
     "showTitle": false,
     "tableResultSettingsMap": {},
     "title": ""
    }
   },
   "outputs": [
    {
     "output_type": "display_data",
     "data": {
      "text/html": [
       "\n",
       "            <div>\n",
       "                <p><b>SparkSession - hive</b></p>\n",
       "                \n",
       "        <div>\n",
       "            <p><b>SparkContext</b></p>\n",
       "\n",
       "            <p><a href=\"/?o=1443871951728651#setting/sparkui/0217-122501-9brqzzoe/driver-5176961274189238277\">Spark UI</a></p>\n",
       "\n",
       "            <dl>\n",
       "              <dt>Version</dt>\n",
       "                <dd><code>v3.3.2</code></dd>\n",
       "              <dt>Master</dt>\n",
       "                <dd><code>local[8]</code></dd>\n",
       "              <dt>AppName</dt>\n",
       "                <dd><code>Databricks Shell</code></dd>\n",
       "            </dl>\n",
       "        </div>\n",
       "        \n",
       "            </div>\n",
       "        "
      ]
     },
     "metadata": {
      "application/vnd.databricks.v1+output": {
       "addedWidgets": {},
       "arguments": {},
       "data": "\n            <div>\n                <p><b>SparkSession - hive</b></p>\n                \n        <div>\n            <p><b>SparkContext</b></p>\n\n            <p><a href=\"/?o=1443871951728651#setting/sparkui/0217-122501-9brqzzoe/driver-5176961274189238277\">Spark UI</a></p>\n\n            <dl>\n              <dt>Version</dt>\n                <dd><code>v3.3.2</code></dd>\n              <dt>Master</dt>\n                <dd><code>local[8]</code></dd>\n              <dt>AppName</dt>\n                <dd><code>Databricks Shell</code></dd>\n            </dl>\n        </div>\n        \n            </div>\n        ",
       "datasetInfos": [],
       "metadata": {},
       "removedWidgets": [],
       "textData": null,
       "type": "htmlSandbox"
      }
     },
     "output_type": "display_data"
    }
   ],
   "source": [
    "spark"
   ]
  },
  {
   "cell_type": "markdown",
   "metadata": {
    "application/vnd.databricks.v1+cell": {
     "cellMetadata": {
      "byteLimit": 2048000,
      "rowLimit": 10000
     },
     "inputWidgets": {},
     "nuid": "d37c5f72-977d-4659-aed3-54b9f0fd4238",
     "showTitle": false,
     "tableResultSettingsMap": {},
     "title": ""
    }
   },
   "source": []
  },
  {
   "cell_type": "code",
   "execution_count": 0,
   "metadata": {
    "application/vnd.databricks.v1+cell": {
     "cellMetadata": {
      "byteLimit": 2048000,
      "rowLimit": 10000
     },
     "inputWidgets": {},
     "nuid": "9dfeeba2-6ee1-413e-b3e8-81a619471cfa",
     "showTitle": false,
     "tableResultSettingsMap": {},
     "title": ""
    }
   },
   "outputs": [
    {
     "output_type": "stream",
     "name": "stdout",
     "output_type": "stream",
     "text": [
      "Out[109]: ['id',\n 'gender',\n 'age',\n 'hypertension',\n 'heart_disease',\n 'ever_married',\n 'work_type',\n 'Residence_type',\n 'avg_glucose_level',\n 'bmi',\n 'smoking_status',\n 'stroke']"
     ]
    }
   ],
   "source": [
    "df00 = spark.read.table(\"stroke_pyspark_2_csv\")\n",
    "df00.columns"
   ]
  },
  {
   "cell_type": "code",
   "execution_count": 0,
   "metadata": {
    "application/vnd.databricks.v1+cell": {
     "cellMetadata": {
      "byteLimit": 2048000,
      "rowLimit": 10000
     },
     "inputWidgets": {},
     "nuid": "b033a70d-961a-4645-8c6f-0077fee65e83",
     "showTitle": false,
     "tableResultSettingsMap": {},
     "title": ""
    }
   },
   "outputs": [
    {
     "output_type": "stream",
     "name": "stdout",
     "output_type": "stream",
     "text": [
      "+-----+------+----+------------+-------------+------------+-------------+--------------+-----------------+----+---------------+------+\n|   id|gender| age|hypertension|heart_disease|ever_married|    work_type|Residence_type|avg_glucose_level| bmi| smoking_status|stroke|\n+-----+------+----+------------+-------------+------------+-------------+--------------+-----------------+----+---------------+------+\n| 9046|  Male|67.0|           0|            1|         Yes|      Private|         Urban|           228.69|36.6|formerly smoked|     1|\n|51676|Female|61.0|           0|            0|         Yes|Self-employed|         Rural|           202.21| N/A|   never smoked|     1|\n|31112|  Male|80.0|           0|            1|         Yes|      Private|         Rural|           105.92|32.5|   never smoked|     1|\n|60182|Female|49.0|           0|            0|         Yes|      Private|         Urban|           171.23|34.4|         smokes|     1|\n| 1665|Female|79.0|           1|            0|         Yes|Self-employed|         Rural|           174.12|  24|   never smoked|     1|\n|56669|  Male|81.0|           0|            0|         Yes|      Private|         Urban|           186.21|  29|formerly smoked|     1|\n|53882|  Male|74.0|           1|            1|         Yes|      Private|         Rural|            70.09|27.4|   never smoked|     1|\n|10434|Female|69.0|           0|            0|          No|      Private|         Urban|            94.39|22.8|   never smoked|     1|\n|27419|Female|59.0|           0|            0|         Yes|      Private|         Rural|            76.15| N/A|        Unknown|     1|\n|60491|Female|78.0|           0|            0|         Yes|      Private|         Urban|            58.57|24.2|        Unknown|     1|\n+-----+------+----+------------+-------------+------------+-------------+--------------+-----------------+----+---------------+------+\nonly showing top 10 rows\n\n"
     ]
    }
   ],
   "source": [
    "df00.show(10)\n"
   ]
  },
  {
   "cell_type": "code",
   "execution_count": 0,
   "metadata": {
    "application/vnd.databricks.v1+cell": {
     "cellMetadata": {
      "byteLimit": 2048000,
      "rowLimit": 10000
     },
     "inputWidgets": {},
     "nuid": "14528135-5606-4ca1-bbe9-fd411b78dae0",
     "showTitle": false,
     "tableResultSettingsMap": {},
     "title": ""
    }
   },
   "outputs": [
    {
     "output_type": "stream",
     "name": "stdout",
     "output_type": "stream",
     "text": [
      "root\n |-- id: integer (nullable = true)\n |-- gender: string (nullable = true)\n |-- age: double (nullable = true)\n |-- hypertension: integer (nullable = true)\n |-- heart_disease: integer (nullable = true)\n |-- ever_married: string (nullable = true)\n |-- work_type: string (nullable = true)\n |-- Residence_type: string (nullable = true)\n |-- avg_glucose_level: double (nullable = true)\n |-- bmi: double (nullable = true)\n |-- smoking_status: string (nullable = true)\n |-- stroke: integer (nullable = true)\n\n"
     ]
    }
   ],
   "source": [
    "df01 = df00.withColumn(\"age\", df00.age.cast(\"int\"))\n",
    "df01 = df00.withColumn(\"bmi\", df00.bmi.cast(\"double\"))\n",
    "df01.printSchema()"
   ]
  },
  {
   "cell_type": "code",
   "execution_count": 0,
   "metadata": {
    "application/vnd.databricks.v1+cell": {
     "cellMetadata": {
      "byteLimit": 2048000,
      "rowLimit": 10000
     },
     "inputWidgets": {},
     "nuid": "890989d0-65f2-4e7b-8dd0-9e546b39a80c",
     "showTitle": false,
     "tableResultSettingsMap": {},
     "title": ""
    }
   },
   "outputs": [
    {
     "output_type": "stream",
     "name": "stdout",
     "output_type": "stream",
     "text": [
      "+------+-----+\n|gender|count|\n+------+-----+\n|Female| 2994|\n| Other|    1|\n|  Male| 2115|\n+------+-----+\n\n"
     ]
    }
   ],
   "source": [
    "df01.groupBy('gender').count().show()\n"
   ]
  },
  {
   "cell_type": "code",
   "execution_count": 0,
   "metadata": {
    "application/vnd.databricks.v1+cell": {
     "cellMetadata": {
      "byteLimit": 2048000,
      "rowLimit": 10000
     },
     "inputWidgets": {},
     "nuid": "c00b0f81-ffc5-43ff-8da3-2e3e2c8c905d",
     "showTitle": false,
     "tableResultSettingsMap": {},
     "title": ""
    }
   },
   "outputs": [],
   "source": [
    "df01 = df01.filter(df01['gender'] != 'hombres')\n"
   ]
  },
  {
   "cell_type": "code",
   "execution_count": 0,
   "metadata": {
    "application/vnd.databricks.v1+cell": {
     "cellMetadata": {
      "byteLimit": 2048000,
      "rowLimit": 10000
     },
     "inputWidgets": {},
     "nuid": "b0e4d9aa-51bb-4fda-86ac-c0c4b8df5d3e",
     "showTitle": false,
     "tableResultSettingsMap": {},
     "title": ""
    }
   },
   "outputs": [
    {
     "output_type": "stream",
     "name": "stdout",
     "output_type": "stream",
     "text": [
      "+-----+------+----+------------+-------------+------------+-------------+--------------+-----------------+----+---------------+------+\n|   id|gender| age|hypertension|heart_disease|ever_married|    work_type|Residence_type|avg_glucose_level| bmi| smoking_status|stroke|\n+-----+------+----+------------+-------------+------------+-------------+--------------+-----------------+----+---------------+------+\n| 9046|  Male|67.0|           0|            1|         Yes|      Private|         Urban|           228.69|36.6|formerly smoked|     1|\n|51676|Female|61.0|           0|            0|         Yes|Self-employed|         Rural|           202.21|null|   never smoked|     1|\n|31112|  Male|80.0|           0|            1|         Yes|      Private|         Rural|           105.92|32.5|   never smoked|     1|\n|60182|Female|49.0|           0|            0|         Yes|      Private|         Urban|           171.23|34.4|         smokes|     1|\n| 1665|Female|79.0|           1|            0|         Yes|Self-employed|         Rural|           174.12|24.0|   never smoked|     1|\n|56669|  Male|81.0|           0|            0|         Yes|      Private|         Urban|           186.21|29.0|formerly smoked|     1|\n|53882|  Male|74.0|           1|            1|         Yes|      Private|         Rural|            70.09|27.4|   never smoked|     1|\n|10434|Female|69.0|           0|            0|          No|      Private|         Urban|            94.39|22.8|   never smoked|     1|\n|27419|Female|59.0|           0|            0|         Yes|      Private|         Rural|            76.15|null|        Unknown|     1|\n|60491|Female|78.0|           0|            0|         Yes|      Private|         Urban|            58.57|24.2|        Unknown|     1|\n+-----+------+----+------------+-------------+------------+-------------+--------------+-----------------+----+---------------+------+\nonly showing top 10 rows\n\n"
     ]
    }
   ],
   "source": [
    "df01.show(10)\n"
   ]
  },
  {
   "cell_type": "markdown",
   "metadata": {
    "application/vnd.databricks.v1+cell": {
     "cellMetadata": {
      "byteLimit": 2048000,
      "rowLimit": 10000
     },
     "inputWidgets": {},
     "nuid": "59fa9783-8d6a-4aee-b20a-bce4b8ac3ef1",
     "showTitle": false,
     "tableResultSettingsMap": {},
     "title": ""
    }
   },
   "source": [
    "REVISION DE DATOS NULOS"
   ]
  },
  {
   "cell_type": "code",
   "execution_count": 0,
   "metadata": {
    "application/vnd.databricks.v1+cell": {
     "cellMetadata": {
      "byteLimit": 2048000,
      "rowLimit": 10000
     },
     "inputWidgets": {},
     "nuid": "a699ef5c-a60d-40cb-9475-ef5cc736dad4",
     "showTitle": false,
     "tableResultSettingsMap": {},
     "title": ""
    }
   },
   "outputs": [
    {
     "output_type": "stream",
     "name": "stdout",
     "output_type": "stream",
     "text": [
      "+---+------+---+------------+-------------+------------+---------+--------------+-----------------+---+--------------+------+\n| id|gender|age|hypertension|heart_disease|ever_married|work_type|Residence_type|avg_glucose_level|bmi|smoking_status|stroke|\n+---+------+---+------------+-------------+------------+---------+--------------+-----------------+---+--------------+------+\n|  0|     0|  0|           0|            0|           0|        0|             0|                0|201|             0|     0|\n+---+------+---+------------+-------------+------------+---------+--------------+-----------------+---+--------------+------+\n\n"
     ]
    }
   ],
   "source": [
    "df01.select([count(when(isnan(c) | col(c).isNull(), c)).alias(c) for c in df01.columns]).show()"
   ]
  },
  {
   "cell_type": "code",
   "execution_count": 0,
   "metadata": {
    "application/vnd.databricks.v1+cell": {
     "cellMetadata": {
      "byteLimit": 2048000,
      "rowLimit": 10000
     },
     "inputWidgets": {},
     "nuid": "eea4fd19-9c6f-4280-9de5-ef3be6cac94e",
     "showTitle": false,
     "tableResultSettingsMap": {},
     "title": ""
    }
   },
   "outputs": [],
   "source": [
    "### promedio de IMC por Estrato  de Edades y female\n",
    "\n",
    "#avg10F = df01.where((col('gender' == lit('Female')) & (col('age') < 10))).select(mean(col('bmi'))).collect()\n",
    "#avg20F = df01.where((col('gender') == lit('Female')) & (col('age') > 10) & (col('age') < 20)).select(mean(col('bmi'))).collect()\n",
    "#avg30F = df01.where((col('gender') == lit('Female')) & (col('age') > 20) & (col('age') < 30)).select(mean(col('bmi'))).collect()\n",
    "#avg40F = df01.where((col('gender') == lit('Female')) & (col('age') > 30) & (col('age') < 40)).select(mean(col('bmi'))).collect()\n",
    "#avg50F = df01.where((col('gender') == lit('Female')) & (col('age') > 40) & (col('age') < 50)).select(mean(col('bmi'))).collect()\n",
    "#avg60F = df01.where((col('gender') == lit('Female')) & (col('age') > 50) & (col('age') < 60)).select(mean(col('bmi'))).collect()\n",
    "#avg70F = df01.where((col('gender') == lit('Female')) & (col('age') > 60) & (col('age') < 70)).select(mean(col('bmi'))).collect()\n",
    "#avg80F = df01.where((col('gender') == lit('Female')) & (col('age') > 70) & (col('age') < 80)).select(mean(col('bmi'))).collect()\n",
    "#avg90F = df01.where((col('gender') == lit('Female')) & (col('age') > 80) & (col('age') < 90)).select(mean(col('bmi'))).collect()"
   ]
  },
  {
   "cell_type": "code",
   "execution_count": 0,
   "metadata": {
    "application/vnd.databricks.v1+cell": {
     "cellMetadata": {
      "byteLimit": 2048000,
      "rowLimit": 10000
     },
     "inputWidgets": {},
     "nuid": "6fb93333-15de-474c-a120-ab04c11d4088",
     "showTitle": false,
     "tableResultSettingsMap": {},
     "title": ""
    }
   },
   "outputs": [],
   "source": [
    "#df02 = df01.withColumn(\"bmi\", when((df01['gender'] == 'Female') & (df01['bmi'].isNull()) & (df01['age'] < 10) avg10F[0][0]).otherwise(df01['bmi']))\n",
    "#df02 = df01.withColumn(\"bmi\", when((df01['gender'] == 'Female') & (df01['bmi'].isNull()) & (df01['age'] < 20) avg20F[0][0]).otherwise(df01['bmi']))\n",
    "#df02 = df01.withColumn(\"bmi\", when((df01['gender'] == 'Female') & (df01['bmi'].isNull()) & (df01['age'] < 30) avg30F[0][0]).otherwise(df01['bmi']))\n",
    "#df02 = df01.withColumn(\"bmi\", when((df01['gender'] == 'Female') & (df01['bmi'].isNull()) & (df01['age'] < 40) avg40F[0][0]).otherwise(df01['bmi']))\n",
    "#df02 = df01.withColumn(\"bmi\", when((df01['gender'] == 'Female') & (df01['bmi'].isNull()) & (df01['age'] < 50) avg50F[0][0]).otherwise(df01['bmi']))\n",
    "#df02 = df01.withColumn(\"bmi\", when((df01['gender'] == 'Female') & (df01['bmi'].isNull()) & (df01['age'] < 60) avg60F[0][0]).otherwise(df01['bmi']))\n",
    "#df02 = df01.withColumn(\"bmi\", when((df01['gender'] == 'Female') & (df01['bmi'].isNull()) & (df01['age'] < 70) avg70F[0][0]).otherwise(df01['bmi']))\n",
    "#df02 = df01.withColumn(\"bmi\", when((df01['gender'] == 'Female') & (df01['bmi'].isNull()) & (df01['age'] < 80) avg80F[0][0]).otherwise(df01['bmi']))\n",
    "#df02 = df01.withColumn(\"bmi\", when((df01['gender'] == 'Female') & (df01['bmi'].isNull()) & (df01['age'] < 90) avg90F[0][0]).otherwise(df01['bmi']))\n"
   ]
  },
  {
   "cell_type": "code",
   "execution_count": 0,
   "metadata": {
    "application/vnd.databricks.v1+cell": {
     "cellMetadata": {
      "byteLimit": 2048000,
      "rowLimit": 10000
     },
     "inputWidgets": {},
     "nuid": "3366925d-a289-40e8-b566-e17f618a6308",
     "showTitle": false,
     "tableResultSettingsMap": {},
     "title": ""
    }
   },
   "outputs": [],
   "source": [
    "### promedio de bmi por Estrato  de Edades y Male\n",
    "\n",
    "#avg10M = df02.where((col('gender' == lit('Male')) & (col('age') < 10))).select(mean(col('bmi'))).collect()\n",
    "#avg20M = df02.where((col('gender') == lit('Male')) & (col('age') > 10) & (col('age') < 20)).select(mean(col('bmi'))).collect()\n",
    "#avg30M = df02.where((col('gender') == lit('Male')) & (col('age') > 20) & (col('age') < 30)).select(mean(col('bmi'))).collect()\n",
    "#avg40M = df02.where((col('gender') == lit('Male')) & (col('age') > 30) & (col('age') < 40)).select(mean(col('bmi'))).collect()\n",
    "#avg50M = df02.where((col('gender') == lit('Male')) & (col('age') > 40) & (col('age') < 50)).select(mean(col('bmi'))).collect()\n",
    "#avg60M = df02.where((col('gender') == lit('Male')) & (col('age') > 50) & (col('age') < 60)).select(mean(col('bmi'))).collect()\n",
    "#avg70M = df02.where((col('gender') == lit('Male')) & (col('age') > 60) & (col('age') < 70)).select(mean(col('bmi'))).collect()\n",
    "#avg80M = df02.where((col('gender') == lit('Male')) & (col('age') > 70) & (col('age') < 80)).select(mean(col('bmi'))).collect()"
   ]
  },
  {
   "cell_type": "code",
   "execution_count": 0,
   "metadata": {
    "application/vnd.databricks.v1+cell": {
     "cellMetadata": {
      "byteLimit": 2048000,
      "rowLimit": 10000
     },
     "inputWidgets": {},
     "nuid": "6a235b1c-e816-4f77-af36-b5d57d7fbc1a",
     "showTitle": false,
     "tableResultSettingsMap": {},
     "title": ""
    }
   },
   "outputs": [],
   "source": [
    "#df02 = df01.withColumn(\"bmi\", when((df01['gender'] == 'Male') & (df01['bmi'].isNull()) & (df01['age'] < 10) avg10M[0][0]).otherwise(df01['bmi']))\n",
    "#df02 = df01.withColumn(\"bmi\", when((df01['gender'] == 'Male') & (df01['bmi'].isNull()) & (df01['age'] < 20) avg20M[0][0]).otherwise(df01['bmi']))\n",
    "#df02 = df01.withColumn(\"bmi\", when((df01['gender'] == 'Male') & (df01['bmi'].isNull()) & (df01['age'] < 30) avg30M[0][0]).otherwise(df01['bmi']))\n",
    "#df02 = df01.withColumn(\"bmi\", when((df01['gender'] == 'Male') & (df01['bmi'].isNull()) & (df01['age'] < 40) avg40M[0][0]).otherwise(df01['bmi']))\n",
    "#df02 = df01.withColumn(\"bmi\", when((df01['gender'] == 'Male') & (df01['bmi'].isNull()) & (df01['age'] < 50) avg50M[0][0]).otherwise(df01['bmi']))\n",
    "#df02 = df01.withColumn(\"bmi\", when((df01['gender'] == 'Male') & (df01['bmi'].isNull()) & (df01['age'] < 60) avg60M[0][0]).otherwise(df01['bmi']))\n",
    "#df02 = df01.withColumn(\"bmi\", when((df01['gender'] == 'Male') & (df01['bmi'].isNull()) & (df01['age'] < 70) avg70M[0][0]).otherwise(df01['bmi']))\n",
    "#df02 = df01.withColumn(\"bmi\", when((df01['gender'] == 'Male') & (df01['bmi'].isNull()) & (df01['age'] < 80) avg80M[0][0]).otherwise(df01['bmi']))\n",
    "#df02 = df01.withColumn(\"bmi\", when((df01['gender'] == 'Male') & (df01['bmi'].isNull()) & (df01['age'] < 90) avg90M[0][0]).otherwise(df01['bmi']))"
   ]
  },
  {
   "cell_type": "code",
   "execution_count": 0,
   "metadata": {
    "application/vnd.databricks.v1+cell": {
     "cellMetadata": {
      "byteLimit": 2048000,
      "rowLimit": 10000
     },
     "inputWidgets": {},
     "nuid": "023ea404-bb55-432e-971f-8fb9e3cfb5c3",
     "showTitle": false,
     "tableResultSettingsMap": {},
     "title": ""
    }
   },
   "outputs": [
    {
     "output_type": "stream",
     "name": "stdout",
     "output_type": "stream",
     "text": [
      "{'avg10F': 18.687962962962963, 'avg20F': 25.202371541501993, 'avg30F': 28.110054347826086, 'avg40F': 31.114250614250615, 'avg50F': 31.147260273972595, 'avg60F': 31.64794816414686, 'avg70F': 30.777976190476185, 'avg80F': 29.53778501628664, 'avg90F': 28.23577981651375}\n{'avg10M': 19.03168724279836, 'avg20M': 24.584051724137947, 'avg30M': 28.228823529411773, 'avg40M': 31.372321428571432, 'avg50M': 31.936329588014974, 'avg60M': 31.889181286549697, 'avg70M': 31.3031496062992, 'avg80M': 29.140291262135918, 'avg90M': 28.34931506849315}\n"
     ]
    }
   ],
   "source": [
    "#recolectar Promedios\n",
    "\n",
    "rangos = [(0, 10), (10, 20), (20, 30), (30, 40), (40, 50), (50, 60), (60, 70), (70, 80), (80, 90)]\n",
    "\n",
    "\n",
    "\n",
    "def calcular_promedio_imc(df, gender, rangos):\n",
    "    promedios = {}\n",
    "    for start, end in rangos:\n",
    "        key = f'avg{end}{gender[0]}'\n",
    "        \n",
    "        avg = df.filter((col('gender') == gender) & (col('age') >= start) & (col('age') < end)) \\\n",
    "                .agg(F.mean(col('bmi'))).collect()[0][0]  \n",
    "        \n",
    "        promedios[key] = avg  \n",
    "        \n",
    "    return promedios\n",
    "\n",
    "# Calcular los promedios para mujeres y hombres\n",
    "resultadosF = calcular_promedio_imc(df01, 'Female', rangos)\n",
    "print(resultadosF)\n",
    "\n",
    "resultadosM = calcular_promedio_imc(df01, 'Male', rangos)\n",
    "print(resultadosM)"
   ]
  },
  {
   "cell_type": "code",
   "execution_count": 0,
   "metadata": {
    "application/vnd.databricks.v1+cell": {
     "cellMetadata": {
      "byteLimit": 2048000,
      "rowLimit": 10000
     },
     "inputWidgets": {},
     "nuid": "6cb830e0-7b55-4541-94e3-23e2022ce9da",
     "showTitle": false,
     "tableResultSettingsMap": {},
     "title": ""
    }
   },
   "outputs": [],
   "source": [
    "#remplazar NULL por promedios por su rango de edad\n",
    "\n",
    "promedios = {**resultadosF, **resultadosM}\n",
    "\n",
    "def remplazar_nulls(df, promedios, rangos):\n",
    "    for start, end in rangos:\n",
    "        for gender in ['Female', 'Male']:\n",
    "            key = f'avg{end}{gender[0]}'\n",
    "            avg_bmi = promedios.get(key, None)\n",
    "            \n",
    "            # Asegurarse de que el promedio no sea None\n",
    "            if avg_bmi is not None:\n",
    "                # Reemplazar los valores NULL de BMI con el promedio calculado para ese grupo\n",
    "                df = df.withColumn(\n",
    "                    'bmi',\n",
    "                    F.when(\n",
    "                        (F.col('gender') == gender) & \n",
    "                        (F.col('age') >= start) & (F.col('age') < end) & \n",
    "                        F.col('bmi').isNull(), avg_bmi\n",
    "                    ).otherwise(F.col('bmi'))\n",
    "                )\n",
    "    return df\n",
    "\n",
    "\n",
    "df02 = remplazar_nulls(df01, promedios, rangos)"
   ]
  },
  {
   "cell_type": "code",
   "execution_count": 0,
   "metadata": {
    "application/vnd.databricks.v1+cell": {
     "cellMetadata": {
      "byteLimit": 2048000,
      "rowLimit": 10000
     },
     "inputWidgets": {},
     "nuid": "dabb0bc1-3fc4-4100-90fe-72f63828d1db",
     "showTitle": false,
     "tableResultSettingsMap": {},
     "title": ""
    }
   },
   "outputs": [
    {
     "output_type": "stream",
     "name": "stdout",
     "output_type": "stream",
     "text": [
      "+---+------+---+------------+-------------+------------+---------+--------------+-----------------+---+--------------+------+\n| id|gender|age|hypertension|heart_disease|ever_married|work_type|Residence_type|avg_glucose_level|bmi|smoking_status|stroke|\n+---+------+---+------------+-------------+------------+---------+--------------+-----------------+---+--------------+------+\n|  0|     0|  0|           0|            0|           0|        0|             0|                0|  0|             0|     0|\n+---+------+---+------------+-------------+------------+---------+--------------+-----------------+---+--------------+------+\n\n"
     ]
    }
   ],
   "source": [
    "df02.select([count(when(isnan(c) | col(c).isNull(), c)).alias(c) for c in df02.columns]).show()"
   ]
  },
  {
   "cell_type": "code",
   "execution_count": 0,
   "metadata": {
    "application/vnd.databricks.v1+cell": {
     "cellMetadata": {
      "byteLimit": 2048000,
      "rowLimit": 10000
     },
     "inputWidgets": {},
     "nuid": "c30e8f37-04d9-414f-856d-31570b3a2b75",
     "showTitle": false,
     "tableResultSettingsMap": {},
     "title": ""
    }
   },
   "outputs": [
    {
     "output_type": "display_data",
     "data": {
      "image/png": "[encoded data removed]"
     },
     "metadata": {
      "application/vnd.databricks.v1+output": {
       "addedWidgets": {},
       "arguments": {},
       "data": "data:image/png;base64,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\n",
       "datasetInfos": [],
       "metadata": {},
       "removedWidgets": [],
       "type": "image"
      }
     },
     "output_type": "display_data"
    }
   ],
   "source": [
    "##grafica edades\n",
    "\n",
    "clases, cantidad = df02.groupby('age').count().select('count').rdd.flatMap(lambda x: x).histogram(20)\n",
    "plt.hist(clases[:-1], bins=clases, weights=cantidad)\n",
    "plt.ylabel('Cantidad')\n",
    "plt.xlabel('Edad')\n",
    "plt.title('Histograma por edades')\n",
    "plt.legend(['Age'], loc='upper right')\n",
    "plt.show()"
   ]
  },
  {
   "cell_type": "code",
   "execution_count": 0,
   "metadata": {
    "application/vnd.databricks.v1+cell": {
     "cellMetadata": {
      "byteLimit": 2048000,
      "rowLimit": 10000
     },
     "inputWidgets": {},
     "nuid": "95d732ad-0f2a-469b-99d2-d864270c85d3",
     "showTitle": false,
     "tableResultSettingsMap": {},
     "title": ""
    }
   },
   "outputs": [
    {
     "output_type": "display_data",
     "data": {
      "image/png": "[encoded data removed]"
     },
     "metadata": {
      "application/vnd.databricks.v1+output": {
       "addedWidgets": {},
       "arguments": {},
       "data": "data:image/png;base64,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\n",
       "datasetInfos": [],
       "metadata": {},
       "removedWidgets": [],
       "type": "image"
      }
     },
     "output_type": "display_data"
    },
    {
     "output_type": "display_data",
     "data": {
      "text/plain": [
       "\u001B[0;31m---------------------------------------------------------------------------\u001B[0m\n",
       "\u001B[0;31mValueError\u001B[0m                                Traceback (most recent call last)\n",
       "File \u001B[0;32m<command-4259709632776535>:4\u001B[0m\n",
       "\u001B[1;32m      2\u001B[0m genero \u001B[38;5;241m=\u001B[39m df02\u001B[38;5;241m.\u001B[39mgroupby(\u001B[38;5;124m'\u001B[39m\u001B[38;5;124mgender\u001B[39m\u001B[38;5;124m'\u001B[39m)\u001B[38;5;241m.\u001B[39mcount()\u001B[38;5;241m.\u001B[39mselect(\u001B[38;5;124m'\u001B[39m\u001B[38;5;124mcount\u001B[39m\u001B[38;5;124m'\u001B[39m)\u001B[38;5;241m.\u001B[39mrdd\u001B[38;5;241m.\u001B[39mflatMap(\u001B[38;5;28;01mlambda\u001B[39;00m x: x)\u001B[38;5;241m.\u001B[39mcollect()\n",
       "\u001B[1;32m      3\u001B[0m categoria \u001B[38;5;241m=\u001B[39m [\u001B[38;5;124m'\u001B[39m\u001B[38;5;124mmujeres\u001B[39m\u001B[38;5;124m'\u001B[39m, \u001B[38;5;124m'\u001B[39m\u001B[38;5;124mhombres\u001B[39m\u001B[38;5;124m'\u001B[39m]\n",
       "\u001B[0;32m----> 4\u001B[0m grafica \u001B[38;5;241m=\u001B[39m plt\u001B[38;5;241m.\u001B[39mbar(categoria, genero)\n",
       "\u001B[1;32m      5\u001B[0m grafica[\u001B[38;5;241m0\u001B[39m]\u001B[38;5;241m.\u001B[39mset_color(\u001B[38;5;124m'\u001B[39m\u001B[38;5;124mr\u001B[39m\u001B[38;5;124m'\u001B[39m)\n",
       "\u001B[1;32m      6\u001B[0m plt\u001B[38;5;241m.\u001B[39mylabel(\u001B[38;5;124m'\u001B[39m\u001B[38;5;124mCantidad\u001B[39m\u001B[38;5;124m'\u001B[39m)\n",
       "\n",
       "File \u001B[0;32m/databricks/python/lib/python3.9/site-packages/matplotlib/pyplot.py:2387\u001B[0m, in \u001B[0;36mbar\u001B[0;34m(x, height, width, bottom, align, data, **kwargs)\u001B[0m\n",
       "\u001B[1;32m   2383\u001B[0m \u001B[38;5;129m@_copy_docstring_and_deprecators\u001B[39m(Axes\u001B[38;5;241m.\u001B[39mbar)\n",
       "\u001B[1;32m   2384\u001B[0m \u001B[38;5;28;01mdef\u001B[39;00m \u001B[38;5;21mbar\u001B[39m(\n",
       "\u001B[1;32m   2385\u001B[0m         x, height, width\u001B[38;5;241m=\u001B[39m\u001B[38;5;241m0.8\u001B[39m, bottom\u001B[38;5;241m=\u001B[39m\u001B[38;5;28;01mNone\u001B[39;00m, \u001B[38;5;241m*\u001B[39m, align\u001B[38;5;241m=\u001B[39m\u001B[38;5;124m'\u001B[39m\u001B[38;5;124mcenter\u001B[39m\u001B[38;5;124m'\u001B[39m,\n",
       "\u001B[1;32m   2386\u001B[0m         data\u001B[38;5;241m=\u001B[39m\u001B[38;5;28;01mNone\u001B[39;00m, \u001B[38;5;241m*\u001B[39m\u001B[38;5;241m*\u001B[39mkwargs):\n",
       "\u001B[0;32m-> 2387\u001B[0m     \u001B[38;5;28;01mreturn\u001B[39;00m \u001B[43mgca\u001B[49m\u001B[43m(\u001B[49m\u001B[43m)\u001B[49m\u001B[38;5;241;43m.\u001B[39;49m\u001B[43mbar\u001B[49m\u001B[43m(\u001B[49m\n",
       "\u001B[1;32m   2388\u001B[0m \u001B[43m        \u001B[49m\u001B[43mx\u001B[49m\u001B[43m,\u001B[49m\u001B[43m \u001B[49m\u001B[43mheight\u001B[49m\u001B[43m,\u001B[49m\u001B[43m \u001B[49m\u001B[43mwidth\u001B[49m\u001B[38;5;241;43m=\u001B[39;49m\u001B[43mwidth\u001B[49m\u001B[43m,\u001B[49m\u001B[43m \u001B[49m\u001B[43mbottom\u001B[49m\u001B[38;5;241;43m=\u001B[39;49m\u001B[43mbottom\u001B[49m\u001B[43m,\u001B[49m\u001B[43m \u001B[49m\u001B[43malign\u001B[49m\u001B[38;5;241;43m=\u001B[39;49m\u001B[43malign\u001B[49m\u001B[43m,\u001B[49m\n",
       "\u001B[1;32m   2389\u001B[0m \u001B[43m        \u001B[49m\u001B[38;5;241;43m*\u001B[39;49m\u001B[38;5;241;43m*\u001B[39;49m\u001B[43m(\u001B[49m\u001B[43m{\u001B[49m\u001B[38;5;124;43m\"\u001B[39;49m\u001B[38;5;124;43mdata\u001B[39;49m\u001B[38;5;124;43m\"\u001B[39;49m\u001B[43m:\u001B[49m\u001B[43m \u001B[49m\u001B[43mdata\u001B[49m\u001B[43m}\u001B[49m\u001B[43m \u001B[49m\u001B[38;5;28;43;01mif\u001B[39;49;00m\u001B[43m \u001B[49m\u001B[43mdata\u001B[49m\u001B[43m \u001B[49m\u001B[38;5;129;43;01mis\u001B[39;49;00m\u001B[43m \u001B[49m\u001B[38;5;129;43;01mnot\u001B[39;49;00m\u001B[43m \u001B[49m\u001B[38;5;28;43;01mNone\u001B[39;49;00m\u001B[43m \u001B[49m\u001B[38;5;28;43;01melse\u001B[39;49;00m\u001B[43m \u001B[49m\u001B[43m{\u001B[49m\u001B[43m}\u001B[49m\u001B[43m)\u001B[49m\u001B[43m,\u001B[49m\u001B[43m \u001B[49m\u001B[38;5;241;43m*\u001B[39;49m\u001B[38;5;241;43m*\u001B[39;49m\u001B[43mkwargs\u001B[49m\u001B[43m)\u001B[49m\n",
       "\n",
       "File \u001B[0;32m/databricks/python/lib/python3.9/site-packages/matplotlib/__init__.py:1412\u001B[0m, in \u001B[0;36m_preprocess_data.<locals>.inner\u001B[0;34m(ax, data, *args, **kwargs)\u001B[0m\n",
       "\u001B[1;32m   1409\u001B[0m \u001B[38;5;129m@functools\u001B[39m\u001B[38;5;241m.\u001B[39mwraps(func)\n",
       "\u001B[1;32m   1410\u001B[0m \u001B[38;5;28;01mdef\u001B[39;00m \u001B[38;5;21minner\u001B[39m(ax, \u001B[38;5;241m*\u001B[39margs, data\u001B[38;5;241m=\u001B[39m\u001B[38;5;28;01mNone\u001B[39;00m, \u001B[38;5;241m*\u001B[39m\u001B[38;5;241m*\u001B[39mkwargs):\n",
       "\u001B[1;32m   1411\u001B[0m     \u001B[38;5;28;01mif\u001B[39;00m data \u001B[38;5;129;01mis\u001B[39;00m \u001B[38;5;28;01mNone\u001B[39;00m:\n",
       "\u001B[0;32m-> 1412\u001B[0m         \u001B[38;5;28;01mreturn\u001B[39;00m \u001B[43mfunc\u001B[49m\u001B[43m(\u001B[49m\u001B[43max\u001B[49m\u001B[43m,\u001B[49m\u001B[43m \u001B[49m\u001B[38;5;241;43m*\u001B[39;49m\u001B[38;5;28;43mmap\u001B[39;49m\u001B[43m(\u001B[49m\u001B[43msanitize_sequence\u001B[49m\u001B[43m,\u001B[49m\u001B[43m \u001B[49m\u001B[43margs\u001B[49m\u001B[43m)\u001B[49m\u001B[43m,\u001B[49m\u001B[43m \u001B[49m\u001B[38;5;241;43m*\u001B[39;49m\u001B[38;5;241;43m*\u001B[39;49m\u001B[43mkwargs\u001B[49m\u001B[43m)\u001B[49m\n",
       "\u001B[1;32m   1414\u001B[0m     bound \u001B[38;5;241m=\u001B[39m new_sig\u001B[38;5;241m.\u001B[39mbind(ax, \u001B[38;5;241m*\u001B[39margs, \u001B[38;5;241m*\u001B[39m\u001B[38;5;241m*\u001B[39mkwargs)\n",
       "\u001B[1;32m   1415\u001B[0m     auto_label \u001B[38;5;241m=\u001B[39m (bound\u001B[38;5;241m.\u001B[39marguments\u001B[38;5;241m.\u001B[39mget(label_namer)\n",
       "\u001B[1;32m   1416\u001B[0m                   \u001B[38;5;129;01mor\u001B[39;00m bound\u001B[38;5;241m.\u001B[39mkwargs\u001B[38;5;241m.\u001B[39mget(label_namer))\n",
       "\n",
       "File \u001B[0;32m/databricks/python/lib/python3.9/site-packages/matplotlib/axes/_axes.py:2342\u001B[0m, in \u001B[0;36mAxes.bar\u001B[0;34m(self, x, height, width, bottom, align, **kwargs)\u001B[0m\n",
       "\u001B[1;32m   2339\u001B[0m     \u001B[38;5;28;01mif\u001B[39;00m yerr \u001B[38;5;129;01mis\u001B[39;00m \u001B[38;5;129;01mnot\u001B[39;00m \u001B[38;5;28;01mNone\u001B[39;00m:\n",
       "\u001B[1;32m   2340\u001B[0m         yerr \u001B[38;5;241m=\u001B[39m \u001B[38;5;28mself\u001B[39m\u001B[38;5;241m.\u001B[39m_convert_dx(yerr, y0, y, \u001B[38;5;28mself\u001B[39m\u001B[38;5;241m.\u001B[39mconvert_yunits)\n",
       "\u001B[0;32m-> 2342\u001B[0m x, height, width, y, linewidth, hatch \u001B[38;5;241m=\u001B[39m \u001B[43mnp\u001B[49m\u001B[38;5;241;43m.\u001B[39;49m\u001B[43mbroadcast_arrays\u001B[49m\u001B[43m(\u001B[49m\n",
       "\u001B[1;32m   2343\u001B[0m \u001B[43m    \u001B[49m\u001B[38;5;66;43;03m# Make args iterable too.\u001B[39;49;00m\n",
       "\u001B[1;32m   2344\u001B[0m \u001B[43m    \u001B[49m\u001B[43mnp\u001B[49m\u001B[38;5;241;43m.\u001B[39;49m\u001B[43matleast_1d\u001B[49m\u001B[43m(\u001B[49m\u001B[43mx\u001B[49m\u001B[43m)\u001B[49m\u001B[43m,\u001B[49m\u001B[43m \u001B[49m\u001B[43mheight\u001B[49m\u001B[43m,\u001B[49m\u001B[43m \u001B[49m\u001B[43mwidth\u001B[49m\u001B[43m,\u001B[49m\u001B[43m \u001B[49m\u001B[43my\u001B[49m\u001B[43m,\u001B[49m\u001B[43m \u001B[49m\u001B[43mlinewidth\u001B[49m\u001B[43m,\u001B[49m\u001B[43m \u001B[49m\u001B[43mhatch\u001B[49m\u001B[43m)\u001B[49m\n",
       "\u001B[1;32m   2346\u001B[0m \u001B[38;5;66;03m# Now that units have been converted, set the tick locations.\u001B[39;00m\n",
       "\u001B[1;32m   2347\u001B[0m \u001B[38;5;28;01mif\u001B[39;00m orientation \u001B[38;5;241m==\u001B[39m \u001B[38;5;124m'\u001B[39m\u001B[38;5;124mvertical\u001B[39m\u001B[38;5;124m'\u001B[39m:\n",
       "\n",
       "File \u001B[0;32m<__array_function__ internals>:5\u001B[0m, in \u001B[0;36mbroadcast_arrays\u001B[0;34m(*args, **kwargs)\u001B[0m\n",
       "\n",
       "File \u001B[0;32m/databricks/python/lib/python3.9/site-packages/numpy/lib/stride_tricks.py:538\u001B[0m, in \u001B[0;36mbroadcast_arrays\u001B[0;34m(subok, *args)\u001B[0m\n",
       "\u001B[1;32m    531\u001B[0m \u001B[38;5;66;03m# nditer is not used here to avoid the limit of 32 arrays.\u001B[39;00m\n",
       "\u001B[1;32m    532\u001B[0m \u001B[38;5;66;03m# Otherwise, something like the following one-liner would suffice:\u001B[39;00m\n",
       "\u001B[1;32m    533\u001B[0m \u001B[38;5;66;03m# return np.nditer(args, flags=['multi_index', 'zerosize_ok'],\u001B[39;00m\n",
       "\u001B[1;32m    534\u001B[0m \u001B[38;5;66;03m#                  order='C').itviews\u001B[39;00m\n",
       "\u001B[1;32m    536\u001B[0m args \u001B[38;5;241m=\u001B[39m [np\u001B[38;5;241m.\u001B[39marray(_m, copy\u001B[38;5;241m=\u001B[39m\u001B[38;5;28;01mFalse\u001B[39;00m, subok\u001B[38;5;241m=\u001B[39msubok) \u001B[38;5;28;01mfor\u001B[39;00m _m \u001B[38;5;129;01min\u001B[39;00m args]\n",
       "\u001B[0;32m--> 538\u001B[0m shape \u001B[38;5;241m=\u001B[39m \u001B[43m_broadcast_shape\u001B[49m\u001B[43m(\u001B[49m\u001B[38;5;241;43m*\u001B[39;49m\u001B[43margs\u001B[49m\u001B[43m)\u001B[49m\n",
       "\u001B[1;32m    540\u001B[0m \u001B[38;5;28;01mif\u001B[39;00m \u001B[38;5;28mall\u001B[39m(array\u001B[38;5;241m.\u001B[39mshape \u001B[38;5;241m==\u001B[39m shape \u001B[38;5;28;01mfor\u001B[39;00m array \u001B[38;5;129;01min\u001B[39;00m args):\n",
       "\u001B[1;32m    541\u001B[0m     \u001B[38;5;66;03m# Common case where nothing needs to be broadcasted.\u001B[39;00m\n",
       "\u001B[1;32m    542\u001B[0m     \u001B[38;5;28;01mreturn\u001B[39;00m args\n",
       "\n",
       "File \u001B[0;32m/databricks/python/lib/python3.9/site-packages/numpy/lib/stride_tricks.py:420\u001B[0m, in \u001B[0;36m_broadcast_shape\u001B[0;34m(*args)\u001B[0m\n",
       "\u001B[1;32m    415\u001B[0m \u001B[38;5;124;03m\"\"\"Returns the shape of the arrays that would result from broadcasting the\u001B[39;00m\n",
       "\u001B[1;32m    416\u001B[0m \u001B[38;5;124;03msupplied arrays against each other.\u001B[39;00m\n",
       "\u001B[1;32m    417\u001B[0m \u001B[38;5;124;03m\"\"\"\u001B[39;00m\n",
       "\u001B[1;32m    418\u001B[0m \u001B[38;5;66;03m# use the old-iterator because np.nditer does not handle size 0 arrays\u001B[39;00m\n",
       "\u001B[1;32m    419\u001B[0m \u001B[38;5;66;03m# consistently\u001B[39;00m\n",
       "\u001B[0;32m--> 420\u001B[0m b \u001B[38;5;241m=\u001B[39m \u001B[43mnp\u001B[49m\u001B[38;5;241;43m.\u001B[39;49m\u001B[43mbroadcast\u001B[49m\u001B[43m(\u001B[49m\u001B[38;5;241;43m*\u001B[39;49m\u001B[43margs\u001B[49m\u001B[43m[\u001B[49m\u001B[43m:\u001B[49m\u001B[38;5;241;43m32\u001B[39;49m\u001B[43m]\u001B[49m\u001B[43m)\u001B[49m\n",
       "\u001B[1;32m    421\u001B[0m \u001B[38;5;66;03m# unfortunately, it cannot handle 32 or more arguments directly\u001B[39;00m\n",
       "\u001B[1;32m    422\u001B[0m \u001B[38;5;28;01mfor\u001B[39;00m pos \u001B[38;5;129;01min\u001B[39;00m \u001B[38;5;28mrange\u001B[39m(\u001B[38;5;241m32\u001B[39m, \u001B[38;5;28mlen\u001B[39m(args), \u001B[38;5;241m31\u001B[39m):\n",
       "\u001B[1;32m    423\u001B[0m     \u001B[38;5;66;03m# ironically, np.broadcast does not properly handle np.broadcast\u001B[39;00m\n",
       "\u001B[1;32m    424\u001B[0m     \u001B[38;5;66;03m# objects (it treats them as scalars)\u001B[39;00m\n",
       "\u001B[1;32m    425\u001B[0m     \u001B[38;5;66;03m# use broadcasting to avoid allocating the full array\u001B[39;00m\n",
       "\n",
       "\u001B[0;31mValueError\u001B[0m: shape mismatch: objects cannot be broadcast to a single shape"
      ]
     },
     "metadata": {
      "application/vnd.databricks.v1+output": {
       "arguments": {},
       "data": "\u001B[0;31m---------------------------------------------------------------------------\u001B[0m\n\u001B[0;31mValueError\u001B[0m                                Traceback (most recent call last)\nFile \u001B[0;32m<command-4259709632776535>:4\u001B[0m\n\u001B[1;32m      2\u001B[0m genero \u001B[38;5;241m=\u001B[39m df02\u001B[38;5;241m.\u001B[39mgroupby(\u001B[38;5;124m'\u001B[39m\u001B[38;5;124mgender\u001B[39m\u001B[38;5;124m'\u001B[39m)\u001B[38;5;241m.\u001B[39mcount()\u001B[38;5;241m.\u001B[39mselect(\u001B[38;5;124m'\u001B[39m\u001B[38;5;124mcount\u001B[39m\u001B[38;5;124m'\u001B[39m)\u001B[38;5;241m.\u001B[39mrdd\u001B[38;5;241m.\u001B[39mflatMap(\u001B[38;5;28;01mlambda\u001B[39;00m x: x)\u001B[38;5;241m.\u001B[39mcollect()\n\u001B[1;32m      3\u001B[0m categoria \u001B[38;5;241m=\u001B[39m [\u001B[38;5;124m'\u001B[39m\u001B[38;5;124mmujeres\u001B[39m\u001B[38;5;124m'\u001B[39m, \u001B[38;5;124m'\u001B[39m\u001B[38;5;124mhombres\u001B[39m\u001B[38;5;124m'\u001B[39m]\n\u001B[0;32m----> 4\u001B[0m grafica \u001B[38;5;241m=\u001B[39m plt\u001B[38;5;241m.\u001B[39mbar(categoria, genero)\n\u001B[1;32m      5\u001B[0m grafica[\u001B[38;5;241m0\u001B[39m]\u001B[38;5;241m.\u001B[39mset_color(\u001B[38;5;124m'\u001B[39m\u001B[38;5;124mr\u001B[39m\u001B[38;5;124m'\u001B[39m)\n\u001B[1;32m      6\u001B[0m plt\u001B[38;5;241m.\u001B[39mylabel(\u001B[38;5;124m'\u001B[39m\u001B[38;5;124mCantidad\u001B[39m\u001B[38;5;124m'\u001B[39m)\n\nFile \u001B[0;32m/databricks/python/lib/python3.9/site-packages/matplotlib/pyplot.py:2387\u001B[0m, in \u001B[0;36mbar\u001B[0;34m(x, height, width, bottom, align, data, **kwargs)\u001B[0m\n\u001B[1;32m   2383\u001B[0m \u001B[38;5;129m@_copy_docstring_and_deprecators\u001B[39m(Axes\u001B[38;5;241m.\u001B[39mbar)\n\u001B[1;32m   2384\u001B[0m \u001B[38;5;28;01mdef\u001B[39;00m \u001B[38;5;21mbar\u001B[39m(\n\u001B[1;32m   2385\u001B[0m         x, height, width\u001B[38;5;241m=\u001B[39m\u001B[38;5;241m0.8\u001B[39m, bottom\u001B[38;5;241m=\u001B[39m\u001B[38;5;28;01mNone\u001B[39;00m, \u001B[38;5;241m*\u001B[39m, align\u001B[38;5;241m=\u001B[39m\u001B[38;5;124m'\u001B[39m\u001B[38;5;124mcenter\u001B[39m\u001B[38;5;124m'\u001B[39m,\n\u001B[1;32m   2386\u001B[0m         data\u001B[38;5;241m=\u001B[39m\u001B[38;5;28;01mNone\u001B[39;00m, \u001B[38;5;241m*\u001B[39m\u001B[38;5;241m*\u001B[39mkwargs):\n\u001B[0;32m-> 2387\u001B[0m     \u001B[38;5;28;01mreturn\u001B[39;00m \u001B[43mgca\u001B[49m\u001B[43m(\u001B[49m\u001B[43m)\u001B[49m\u001B[38;5;241;43m.\u001B[39;49m\u001B[43mbar\u001B[49m\u001B[43m(\u001B[49m\n\u001B[1;32m   2388\u001B[0m \u001B[43m        \u001B[49m\u001B[43mx\u001B[49m\u001B[43m,\u001B[49m\u001B[43m \u001B[49m\u001B[43mheight\u001B[49m\u001B[43m,\u001B[49m\u001B[43m \u001B[49m\u001B[43mwidth\u001B[49m\u001B[38;5;241;43m=\u001B[39;49m\u001B[43mwidth\u001B[49m\u001B[43m,\u001B[49m\u001B[43m \u001B[49m\u001B[43mbottom\u001B[49m\u001B[38;5;241;43m=\u001B[39;49m\u001B[43mbottom\u001B[49m\u001B[43m,\u001B[49m\u001B[43m \u001B[49m\u001B[43malign\u001B[49m\u001B[38;5;241;43m=\u001B[39;49m\u001B[43malign\u001B[49m\u001B[43m,\u001B[49m\n\u001B[1;32m   2389\u001B[0m \u001B[43m        \u001B[49m\u001B[38;5;241;43m*\u001B[39;49m\u001B[38;5;241;43m*\u001B[39;49m\u001B[43m(\u001B[49m\u001B[43m{\u001B[49m\u001B[38;5;124;43m\"\u001B[39;49m\u001B[38;5;124;43mdata\u001B[39;49m\u001B[38;5;124;43m\"\u001B[39;49m\u001B[43m:\u001B[49m\u001B[43m \u001B[49m\u001B[43mdata\u001B[49m\u001B[43m}\u001B[49m\u001B[43m \u001B[49m\u001B[38;5;28;43;01mif\u001B[39;49;00m\u001B[43m \u001B[49m\u001B[43mdata\u001B[49m\u001B[43m \u001B[49m\u001B[38;5;129;43;01mis\u001B[39;49;00m\u001B[43m \u001B[49m\u001B[38;5;129;43;01mnot\u001B[39;49;00m\u001B[43m \u001B[49m\u001B[38;5;28;43;01mNone\u001B[39;49;00m\u001B[43m \u001B[49m\u001B[38;5;28;43;01melse\u001B[39;49;00m\u001B[43m \u001B[49m\u001B[43m{\u001B[49m\u001B[43m}\u001B[49m\u001B[43m)\u001B[49m\u001B[43m,\u001B[49m\u001B[43m \u001B[49m\u001B[38;5;241;43m*\u001B[39;49m\u001B[38;5;241;43m*\u001B[39;49m\u001B[43mkwargs\u001B[49m\u001B[43m)\u001B[49m\n\nFile \u001B[0;32m/databricks/python/lib/python3.9/site-packages/matplotlib/__init__.py:1412\u001B[0m, in \u001B[0;36m_preprocess_data.<locals>.inner\u001B[0;34m(ax, data, *args, **kwargs)\u001B[0m\n\u001B[1;32m   1409\u001B[0m \u001B[38;5;129m@functools\u001B[39m\u001B[38;5;241m.\u001B[39mwraps(func)\n\u001B[1;32m   1410\u001B[0m \u001B[38;5;28;01mdef\u001B[39;00m \u001B[38;5;21minner\u001B[39m(ax, \u001B[38;5;241m*\u001B[39margs, data\u001B[38;5;241m=\u001B[39m\u001B[38;5;28;01mNone\u001B[39;00m, \u001B[38;5;241m*\u001B[39m\u001B[38;5;241m*\u001B[39mkwargs):\n\u001B[1;32m   1411\u001B[0m     \u001B[38;5;28;01mif\u001B[39;00m data \u001B[38;5;129;01mis\u001B[39;00m \u001B[38;5;28;01mNone\u001B[39;00m:\n\u001B[0;32m-> 1412\u001B[0m         \u001B[38;5;28;01mreturn\u001B[39;00m \u001B[43mfunc\u001B[49m\u001B[43m(\u001B[49m\u001B[43max\u001B[49m\u001B[43m,\u001B[49m\u001B[43m \u001B[49m\u001B[38;5;241;43m*\u001B[39;49m\u001B[38;5;28;43mmap\u001B[39;49m\u001B[43m(\u001B[49m\u001B[43msanitize_sequence\u001B[49m\u001B[43m,\u001B[49m\u001B[43m \u001B[49m\u001B[43margs\u001B[49m\u001B[43m)\u001B[49m\u001B[43m,\u001B[49m\u001B[43m \u001B[49m\u001B[38;5;241;43m*\u001B[39;49m\u001B[38;5;241;43m*\u001B[39;49m\u001B[43mkwargs\u001B[49m\u001B[43m)\u001B[49m\n\u001B[1;32m   1414\u001B[0m     bound \u001B[38;5;241m=\u001B[39m new_sig\u001B[38;5;241m.\u001B[39mbind(ax, \u001B[38;5;241m*\u001B[39margs, \u001B[38;5;241m*\u001B[39m\u001B[38;5;241m*\u001B[39mkwargs)\n\u001B[1;32m   1415\u001B[0m     auto_label \u001B[38;5;241m=\u001B[39m (bound\u001B[38;5;241m.\u001B[39marguments\u001B[38;5;241m.\u001B[39mget(label_namer)\n\u001B[1;32m   1416\u001B[0m                   \u001B[38;5;129;01mor\u001B[39;00m bound\u001B[38;5;241m.\u001B[39mkwargs\u001B[38;5;241m.\u001B[39mget(label_namer))\n\nFile \u001B[0;32m/databricks/python/lib/python3.9/site-packages/matplotlib/axes/_axes.py:2342\u001B[0m, in \u001B[0;36mAxes.bar\u001B[0;34m(self, x, height, width, bottom, align, **kwargs)\u001B[0m\n\u001B[1;32m   2339\u001B[0m     \u001B[38;5;28;01mif\u001B[39;00m yerr \u001B[38;5;129;01mis\u001B[39;00m \u001B[38;5;129;01mnot\u001B[39;00m \u001B[38;5;28;01mNone\u001B[39;00m:\n\u001B[1;32m   2340\u001B[0m         yerr \u001B[38;5;241m=\u001B[39m \u001B[38;5;28mself\u001B[39m\u001B[38;5;241m.\u001B[39m_convert_dx(yerr, y0, y, \u001B[38;5;28mself\u001B[39m\u001B[38;5;241m.\u001B[39mconvert_yunits)\n\u001B[0;32m-> 2342\u001B[0m x, height, width, y, linewidth, hatch \u001B[38;5;241m=\u001B[39m \u001B[43mnp\u001B[49m\u001B[38;5;241;43m.\u001B[39;49m\u001B[43mbroadcast_arrays\u001B[49m\u001B[43m(\u001B[49m\n\u001B[1;32m   2343\u001B[0m \u001B[43m    \u001B[49m\u001B[38;5;66;43;03m# Make args iterable too.\u001B[39;49;00m\n\u001B[1;32m   2344\u001B[0m \u001B[43m    \u001B[49m\u001B[43mnp\u001B[49m\u001B[38;5;241;43m.\u001B[39;49m\u001B[43matleast_1d\u001B[49m\u001B[43m(\u001B[49m\u001B[43mx\u001B[49m\u001B[43m)\u001B[49m\u001B[43m,\u001B[49m\u001B[43m \u001B[49m\u001B[43mheight\u001B[49m\u001B[43m,\u001B[49m\u001B[43m \u001B[49m\u001B[43mwidth\u001B[49m\u001B[43m,\u001B[49m\u001B[43m \u001B[49m\u001B[43my\u001B[49m\u001B[43m,\u001B[49m\u001B[43m \u001B[49m\u001B[43mlinewidth\u001B[49m\u001B[43m,\u001B[49m\u001B[43m \u001B[49m\u001B[43mhatch\u001B[49m\u001B[43m)\u001B[49m\n\u001B[1;32m   2346\u001B[0m \u001B[38;5;66;03m# Now that units have been converted, set the tick locations.\u001B[39;00m\n\u001B[1;32m   2347\u001B[0m \u001B[38;5;28;01mif\u001B[39;00m orientation \u001B[38;5;241m==\u001B[39m \u001B[38;5;124m'\u001B[39m\u001B[38;5;124mvertical\u001B[39m\u001B[38;5;124m'\u001B[39m:\n\nFile \u001B[0;32m<__array_function__ internals>:5\u001B[0m, in \u001B[0;36mbroadcast_arrays\u001B[0;34m(*args, **kwargs)\u001B[0m\n\nFile \u001B[0;32m/databricks/python/lib/python3.9/site-packages/numpy/lib/stride_tricks.py:538\u001B[0m, in \u001B[0;36mbroadcast_arrays\u001B[0;34m(subok, *args)\u001B[0m\n\u001B[1;32m    531\u001B[0m \u001B[38;5;66;03m# nditer is not used here to avoid the limit of 32 arrays.\u001B[39;00m\n\u001B[1;32m    532\u001B[0m \u001B[38;5;66;03m# Otherwise, something like the following one-liner would suffice:\u001B[39;00m\n\u001B[1;32m    533\u001B[0m \u001B[38;5;66;03m# return np.nditer(args, flags=['multi_index', 'zerosize_ok'],\u001B[39;00m\n\u001B[1;32m    534\u001B[0m \u001B[38;5;66;03m#                  order='C').itviews\u001B[39;00m\n\u001B[1;32m    536\u001B[0m args \u001B[38;5;241m=\u001B[39m [np\u001B[38;5;241m.\u001B[39marray(_m, copy\u001B[38;5;241m=\u001B[39m\u001B[38;5;28;01mFalse\u001B[39;00m, subok\u001B[38;5;241m=\u001B[39msubok) \u001B[38;5;28;01mfor\u001B[39;00m _m \u001B[38;5;129;01min\u001B[39;00m args]\n\u001B[0;32m--> 538\u001B[0m shape \u001B[38;5;241m=\u001B[39m \u001B[43m_broadcast_shape\u001B[49m\u001B[43m(\u001B[49m\u001B[38;5;241;43m*\u001B[39;49m\u001B[43margs\u001B[49m\u001B[43m)\u001B[49m\n\u001B[1;32m    540\u001B[0m \u001B[38;5;28;01mif\u001B[39;00m \u001B[38;5;28mall\u001B[39m(array\u001B[38;5;241m.\u001B[39mshape \u001B[38;5;241m==\u001B[39m shape \u001B[38;5;28;01mfor\u001B[39;00m array \u001B[38;5;129;01min\u001B[39;00m args):\n\u001B[1;32m    541\u001B[0m     \u001B[38;5;66;03m# Common case where nothing needs to be broadcasted.\u001B[39;00m\n\u001B[1;32m    542\u001B[0m     \u001B[38;5;28;01mreturn\u001B[39;00m args\n\nFile \u001B[0;32m/databricks/python/lib/python3.9/site-packages/numpy/lib/stride_tricks.py:420\u001B[0m, in \u001B[0;36m_broadcast_shape\u001B[0;34m(*args)\u001B[0m\n\u001B[1;32m    415\u001B[0m \u001B[38;5;124;03m\"\"\"Returns the shape of the arrays that would result from broadcasting the\u001B[39;00m\n\u001B[1;32m    416\u001B[0m \u001B[38;5;124;03msupplied arrays against each other.\u001B[39;00m\n\u001B[1;32m    417\u001B[0m \u001B[38;5;124;03m\"\"\"\u001B[39;00m\n\u001B[1;32m    418\u001B[0m \u001B[38;5;66;03m# use the old-iterator because np.nditer does not handle size 0 arrays\u001B[39;00m\n\u001B[1;32m    419\u001B[0m \u001B[38;5;66;03m# consistently\u001B[39;00m\n\u001B[0;32m--> 420\u001B[0m b \u001B[38;5;241m=\u001B[39m \u001B[43mnp\u001B[49m\u001B[38;5;241;43m.\u001B[39;49m\u001B[43mbroadcast\u001B[49m\u001B[43m(\u001B[49m\u001B[38;5;241;43m*\u001B[39;49m\u001B[43margs\u001B[49m\u001B[43m[\u001B[49m\u001B[43m:\u001B[49m\u001B[38;5;241;43m32\u001B[39;49m\u001B[43m]\u001B[49m\u001B[43m)\u001B[49m\n\u001B[1;32m    421\u001B[0m \u001B[38;5;66;03m# unfortunately, it cannot handle 32 or more arguments directly\u001B[39;00m\n\u001B[1;32m    422\u001B[0m \u001B[38;5;28;01mfor\u001B[39;00m pos \u001B[38;5;129;01min\u001B[39;00m \u001B[38;5;28mrange\u001B[39m(\u001B[38;5;241m32\u001B[39m, \u001B[38;5;28mlen\u001B[39m(args), \u001B[38;5;241m31\u001B[39m):\n\u001B[1;32m    423\u001B[0m     \u001B[38;5;66;03m# ironically, np.broadcast does not properly handle np.broadcast\u001B[39;00m\n\u001B[1;32m    424\u001B[0m     \u001B[38;5;66;03m# objects (it treats them as scalars)\u001B[39;00m\n\u001B[1;32m    425\u001B[0m     \u001B[38;5;66;03m# use broadcasting to avoid allocating the full array\u001B[39;00m\n\n\u001B[0;31mValueError\u001B[0m: shape mismatch: objects cannot be broadcast to a single shape",
       "errorSummary": "<span class='ansi-red-fg'>ValueError</span>: shape mismatch: objects cannot be broadcast to a single shape",
       "errorTraceType": "ansi",
       "metadata": {},
       "type": "ipynbError"
      }
     },
     "output_type": "display_data"
    }
   ],
   "source": [
    "##genero\n",
    "genero = df02.groupby('gender').count().select('count').rdd.flatMap(lambda x: x).collect()\n",
    "categoria = ['mujeres', 'hombres']\n",
    "grafica = plt.bar(categoria, genero)\n",
    "grafica[0].set_color('r')\n",
    "plt.ylabel('Cantidad')\n",
    "plt.xlabel('Género')\n",
    "plt.title('Gráfica de barras por género')\n",
    "\n",
    "plt.show()"
   ]
  },
  {
   "cell_type": "code",
   "execution_count": 0,
   "metadata": {
    "application/vnd.databricks.v1+cell": {
     "cellMetadata": {
      "byteLimit": 2048000,
      "rowLimit": 10000
     },
     "inputWidgets": {},
     "nuid": "38e4968f-a184-4d64-a844-8d701bab9a04",
     "showTitle": false,
     "tableResultSettingsMap": {},
     "title": ""
    }
   },
   "outputs": [
    {
     "output_type": "display_data",
     "data": {
      "image/png": "[encoded data removed]"
     },
     "metadata": {
      "application/vnd.databricks.v1+output": {
       "addedWidgets": {},
       "arguments": {},
       "data": "data:image/png;base64,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\n",
       "datasetInfos": [],
       "metadata": {},
       "removedWidgets": [],
       "type": "image"
      }
     },
     "output_type": "display_data"
    }
   ],
   "source": [
    "##enfermedades cardiacas\n",
    "enfCardiaca = df02.groupby('heart_disease').count().select('count').rdd.flatMap(lambda x: x).collect()\n",
    "#plt.hist8clases[:-1], bin = clases, weight = cantidad\n",
    "categoria = ['si', 'no']\n",
    "grafica = plt.bar(categoria, enfCardiaca)\n",
    "grafica[0].set_color('r')\n",
    "plt.ylabel('cantidad')\n",
    "plt.xlabel('Enfermedad Cardiaca')\n",
    "plt.title('grafica de barras por Enfermedad Cardiaca')\n",
    "#plt.legend(['gender'], loc='upper right')\n",
    "plt.show()"
   ]
  }
 ],
 "metadata": {
  "application/vnd.databricks.v1+notebook": {
   "computePreferences": null,
   "dashboards": [],
   "environmentMetadata": {
    "base_environment": "",
    "client": "1"
   },
   "language": "python",
   "notebookMetadata": {
    "pythonIndentUnit": 4
   },
   "notebookName": "Hurtado_febrero_2025",
   "widgets": {}
  }
 },
 "nbformat": 4,
 "nbformat_minor": 0
}
