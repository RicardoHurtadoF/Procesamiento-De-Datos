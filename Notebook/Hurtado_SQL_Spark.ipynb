{
  "nbformat": 4,
  "nbformat_minor": 0,
  "metadata": {
    "colab": {
      "provenance": []
    },
    "kernelspec": {
      "name": "python3",
      "display_name": "Python 3"
    },
    "language_info": {
      "name": "python"
    }
  },
  "cells": [
    {
      "cell_type": "markdown",
      "source": [
        "![LOGO_PUJ.png](data:image/png;base64,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)\n",
        "***Pontificia Universidad Javeriana***\n",
        "# **Procesamiento de Alto Volumen de Datos**\n",
        "\n",
        "### Taller: **SQL con PySpark**\n",
        "\n",
        "Autor: Ricardo Hurtado\n",
        "\n",
        "Fecha: 5/05/25\n",
        "\n",
        "**Objetivo**: Uso de SQL como motor de Consultas sobre DataFrame Spark.\n",
        "\n",
        "Proporciona una abstracción de programación denominada DataFrames y también puede actuar como motor de consulta SQL distribuido. Permite ejecutar consultas Hadoop Hive no modificadas hasta 100 veces más rápido en implementaciones y datos existentes. También proporciona una potente integración con el resto del ecosistema Spark (por ejemplo, integrando el procesamiento de consultas SQL con MLib).\n",
        "\n",
        "Spark SQL aporta soporte nativo para SQL a Spark y agiliza el proceso de consulta de datos almacenados tanto en RDD como en fuentes externas. Spark SQL difumina convenientemente las líneas entre RDDs y tablas relacionales. Spark SQL permite:\n",
        "\n",
        "- Importar datos relacionales de archivos Parquet y tablas Hive\n",
        "- Ejecutar consultas SQL sobre datos importados y RDDs existentes\n",
        "- Escribir fácilmente RDDs en tablas Hive o archivos Parquet.\n",
        "\n",
        "Spark SQL también incluye un optimizador basado en costes, almacenamiento en columnas y generación de código para agilizar las consultas. Al mismo tiempo, escala a miles de nodos y consultas de varias horas utilizando el motor Spark, que proporciona una tolerancia total a fallos a mitad de consulta, sin tener que preocuparse de utilizar un motor diferente para los datos históricos.\n",
        "\n",
        "____________________________________________________"
      ],
      "metadata": {
        "id": "jMm8j1zH9nTE"
      }
    },
    {
      "cell_type": "markdown",
      "source": [
        "**1.- Crear sessión PySpark SQL**\n",
        "\n"
      ],
      "metadata": {
        "id": "o886sDVt_81C"
      }
    },
    {
      "cell_type": "code",
      "execution_count": 1,
      "metadata": {
        "id": "fUJTGTwe5bJ6"
      },
      "outputs": [],
      "source": [
        "from pyspark.sql.functions import col, when, avg\n",
        "from pyspark.sql import SparkSession\n",
        "\n",
        "spark = SparkSession.builder.appName(\"TallerSQL\").getOrCreate()"
      ]
    },
    {
      "cell_type": "markdown",
      "source": [
        "**2.-Crear DataFrame Spark:**\n",
        "- Al menos 15 registros: nombres y edades entre (10 y 70 años)**\n",
        "- Mostrar dataframe\n",
        "\n",
        "```\n",
        "df00 = spark.createDataFrame(\n",
        "        [\n",
        "            (\"nombre1\", 22),\n",
        "            (\"nombre2\", 31),\n",
        "        ],\n",
        "        [\"Nombre\", \"Edad\"],\n",
        ")\n",
        "```"
      ],
      "metadata": {
        "id": "mx1yUKjD_5-w"
      }
    },
    {
      "cell_type": "code",
      "source": [
        "df00 = spark.createDataFrame(\n",
        "        [\n",
        "            (\"Ricardo\",20),\n",
        "            (\"Juan\",21),\n",
        "            (\"Andres\",10),\n",
        "            (\"Maria\",15),\n",
        "            (\"Teresa\",25),\n",
        "            (\"Carlos\",30),\n",
        "            (\"Danilo\",35),\n",
        "            (\"Camilo\",40),\n",
        "            (\"Sofia\",15),\n",
        "            (\"Helena\", 16),\n",
        "            (\"Pedro\",54),\n",
        "            (\"Julian\", 17),\n",
        "            (\"Felipe\", 20),\n",
        "            (\"Luis\",19),\n",
        "            (\"Dayan\", 22),\n",
        "        ],\n",
        "        [\"Nombre\", \"Edad\"],\n",
        ")\n",
        "df00.show()\n"
      ],
      "metadata": {
        "colab": {
          "base_uri": "https://localhost:8080/"
        },
        "id": "rlWUgtjlquiF",
        "outputId": "e870739c-d72c-460a-f2fa-388f1ce1ac06"
      },
      "execution_count": 2,
      "outputs": [
        {
          "output_type": "stream",
          "name": "stdout",
          "text": [
            "+-------+----+\n",
            "| Nombre|Edad|\n",
            "+-------+----+\n",
            "|Ricardo|  20|\n",
            "|   Juan|  21|\n",
            "| Andres|  10|\n",
            "|  Maria|  15|\n",
            "| Teresa|  25|\n",
            "| Carlos|  30|\n",
            "| Danilo|  35|\n",
            "| Camilo|  40|\n",
            "|  Sofia|  15|\n",
            "| Helena|  16|\n",
            "|  Pedro|  54|\n",
            "| Julian|  17|\n",
            "| Felipe|  20|\n",
            "|   Luis|  19|\n",
            "|  Dayan|  22|\n",
            "+-------+----+\n",
            "\n"
          ]
        }
      ]
    },
    {
      "cell_type": "markdown",
      "source": [
        "**3.- Agregue una nueva columna \"Etapa\":**\n",
        "- Niño: menores de 12 años\n",
        "- Adolescente: menores de 19 años\n",
        "- Adulto: mayor que 19 años\n",
        "- Mostrar dataframe\n",
        "\n",
        "\n",
        "\n",
        "```\n",
        "df1 = df.withColumn(\n",
        "    \"nombreColumna\",\n",
        "    when(col(\"nom\") < 100, \"vivo\")\n",
        "    .when(col(\"nom\").between(100, 180), \"novivo\")\n",
        "    .otherwise(\"nacer\"),\n",
        ")\n",
        "```"
      ],
      "metadata": {
        "id": "PM8PKgzJBsAs"
      }
    },
    {
      "cell_type": "code",
      "source": [
        "df01 = df00.withColumn(\n",
        "    \"Etapa\",\n",
        "    when(col(\"Edad\") < 12, \"Niño\")\n",
        "    .when(col(\"Edad\") < 19, \"Adolescente\")\n",
        "    .otherwise(\"Adulto\"),\n",
        "\n",
        ")\n",
        "df01.show()\n"
      ],
      "metadata": {
        "colab": {
          "base_uri": "https://localhost:8080/"
        },
        "id": "yhIpwfzgsEpi",
        "outputId": "9b467d3e-5a4a-43e0-e5d0-40a09a90f9ce"
      },
      "execution_count": 11,
      "outputs": [
        {
          "output_type": "stream",
          "name": "stdout",
          "text": [
            "+-------+----+-----------+\n",
            "| Nombre|Edad|      Etapa|\n",
            "+-------+----+-----------+\n",
            "|Ricardo|  20|     Adulto|\n",
            "|   Juan|  21|     Adulto|\n",
            "| Andres|  10|       Niño|\n",
            "|  Maria|  15|Adolescente|\n",
            "| Teresa|  25|     Adulto|\n",
            "| Carlos|  30|     Adulto|\n",
            "| Danilo|  35|     Adulto|\n",
            "| Camilo|  40|     Adulto|\n",
            "|  Sofia|  15|Adolescente|\n",
            "| Helena|  16|Adolescente|\n",
            "|  Pedro|  54|     Adulto|\n",
            "| Julian|  17|Adolescente|\n",
            "| Felipe|  20|     Adulto|\n",
            "|   Luis|  19|     Adulto|\n",
            "|  Dayan|  22|     Adulto|\n",
            "+-------+----+-----------+\n",
            "\n"
          ]
        }
      ]
    },
    {
      "cell_type": "markdown",
      "source": [
        "**4.- Filtre los datos que son solo 'Adolescentes y Adultos'**\n",
        "\n",
        "\n",
        "```\n",
        "dfA.where(col(\"columna\").isin([\"vivo\", \"novivo\"])).show()\n",
        "```"
      ],
      "metadata": {
        "id": "WmfamSKBDVkV"
      }
    },
    {
      "cell_type": "code",
      "source": [
        "df02 = df01.where(col(\"Etapa\").isin([\"Adolescente\", \"Adulto\"]))\n",
        "df02.show()"
      ],
      "metadata": {
        "colab": {
          "base_uri": "https://localhost:8080/"
        },
        "id": "e4h4ruMftN2G",
        "outputId": "52298c7e-8121-4baa-c1e9-0be0ab01ae09"
      },
      "execution_count": 15,
      "outputs": [
        {
          "output_type": "stream",
          "name": "stdout",
          "text": [
            "+-------+----+-----------+\n",
            "| Nombre|Edad|      Etapa|\n",
            "+-------+----+-----------+\n",
            "|Ricardo|  20|     Adulto|\n",
            "|   Juan|  21|     Adulto|\n",
            "|  Maria|  15|Adolescente|\n",
            "| Teresa|  25|     Adulto|\n",
            "| Carlos|  30|     Adulto|\n",
            "| Danilo|  35|     Adulto|\n",
            "| Camilo|  40|     Adulto|\n",
            "|  Sofia|  15|Adolescente|\n",
            "| Helena|  16|Adolescente|\n",
            "|  Pedro|  54|     Adulto|\n",
            "| Julian|  17|Adolescente|\n",
            "| Felipe|  20|     Adulto|\n",
            "|   Luis|  19|     Adulto|\n",
            "|  Dayan|  22|     Adulto|\n",
            "+-------+----+-----------+\n",
            "\n"
          ]
        }
      ]
    },
    {
      "cell_type": "markdown",
      "source": [
        "### Consultas al Dataframe por SQL\n",
        "\n",
        "**5.- Consulte el promedio de la columna Edad**\n",
        "\n",
        "\n",
        "\n",
        "```\n",
        "spark.sql(\"select avg(Edad) from {dfB}\", dfB=dfB).show()\n",
        "```"
      ],
      "metadata": {
        "id": "9HT_eOz3ELy-"
      }
    },
    {
      "cell_type": "code",
      "source": [
        "df00.select(avg(\"Edad\")).show()"
      ],
      "metadata": {
        "colab": {
          "base_uri": "https://localhost:8080/"
        },
        "id": "q4HePAYWtuKI",
        "outputId": "e37ba5c3-ad1a-4f94-f945-f9408950a7f1"
      },
      "execution_count": 16,
      "outputs": [
        {
          "output_type": "stream",
          "name": "stdout",
          "text": [
            "+------------------+\n",
            "|         avg(Edad)|\n",
            "+------------------+\n",
            "|23.933333333333334|\n",
            "+------------------+\n",
            "\n"
          ]
        }
      ]
    },
    {
      "cell_type": "markdown",
      "source": [
        "**6.- Consulte el promedio de la columna Edad por Etapa**\n",
        "\n",
        "\n",
        "\n",
        "```\n",
        "spark.sql(\"select colStage, avg(edad) from {dfH} group by colStage\", dfH=dfH).show()\n",
        "```\n",
        "\n"
      ],
      "metadata": {
        "id": "rOWfBfseExTS"
      }
    },
    {
      "cell_type": "code",
      "source": [
        "df01.createOrReplaceTempView(\"temp_table\")\n",
        "spark.sql(\"select Etapa, avg(Edad) from temp_table group by Etapa\").show()"
      ],
      "metadata": {
        "colab": {
          "base_uri": "https://localhost:8080/"
        },
        "id": "BbbyK763tznx",
        "outputId": "86770745-83d2-4bef-8598-2dc090ab9ef4"
      },
      "execution_count": 17,
      "outputs": [
        {
          "output_type": "stream",
          "name": "stdout",
          "text": [
            "+-----------+---------+\n",
            "|      Etapa|avg(Edad)|\n",
            "+-----------+---------+\n",
            "|Adolescente|    15.75|\n",
            "|       Niño|     10.0|\n",
            "|     Adulto|     28.6|\n",
            "+-----------+---------+\n",
            "\n"
          ]
        }
      ]
    },
    {
      "cell_type": "markdown",
      "source": [
        "**7.- Persistencia: crear un tabla para ser facilmente accesible por el API SQL**\n",
        "\n",
        "- Crear la tabla\n",
        "- Mostrar la tabla creada\n",
        "- Insertar al menos 4 nuevos registros\n",
        "- Mostrar nueva tabla\n",
        "\n",
        "```\n",
        "dfG.write.saveAsTable(\"nombreTabla\")\n",
        "\n",
        "spark.sql(\"select * from nombreTabla\").show()\n",
        "\n",
        "spark.sql(\"INSERT INTO nombreTabla VALUES ('nNombre', 14, 'vivo')\")\n",
        "```"
      ],
      "metadata": {
        "id": "6iupKCo3F6fs"
      }
    },
    {
      "cell_type": "code",
      "source": [
        "df01.write.saveAsTable(\"TablaSQL\")\n",
        "spark.sql(\"select * from TablaSQL\").show()\n",
        "spark.sql(\"INSERT INTO TablaSQL VALUES ('Diana', 13, 'Niño')\")"
      ],
      "metadata": {
        "colab": {
          "base_uri": "https://localhost:8080/"
        },
        "id": "XZYHvnn8t5Io",
        "outputId": "c0f9ae71-84af-45c7-c410-a905563d5c10"
      },
      "execution_count": 19,
      "outputs": [
        {
          "output_type": "stream",
          "name": "stdout",
          "text": [
            "+-------+----+-----------+\n",
            "| Nombre|Edad|      Etapa|\n",
            "+-------+----+-----------+\n",
            "|Ricardo|  20|     Adulto|\n",
            "|   Juan|  21|     Adulto|\n",
            "| Andres|  10|       Niño|\n",
            "|  Maria|  15|Adolescente|\n",
            "| Teresa|  25|     Adulto|\n",
            "| Carlos|  30|     Adulto|\n",
            "| Danilo|  35|     Adulto|\n",
            "| Camilo|  40|     Adulto|\n",
            "|  Sofia|  15|Adolescente|\n",
            "| Helena|  16|Adolescente|\n",
            "|  Pedro|  54|     Adulto|\n",
            "| Julian|  17|Adolescente|\n",
            "| Felipe|  20|     Adulto|\n",
            "|   Luis|  19|     Adulto|\n",
            "|  Dayan|  22|     Adulto|\n",
            "+-------+----+-----------+\n",
            "\n"
          ]
        },
        {
          "output_type": "execute_result",
          "data": {
            "text/plain": [
              "DataFrame[]"
            ]
          },
          "metadata": {},
          "execution_count": 19
        }
      ]
    },
    {
      "cell_type": "markdown",
      "source": [
        "**8.- Consulte en la tabla los adolescentes:**\n",
        "\n",
        "\n",
        "\n",
        "```\n",
        "spark.sql(\"select * from TablaNombre where NTapaS='vivos'\").show()\n",
        "```"
      ],
      "metadata": {
        "id": "ns6BbXgdHiB_"
      }
    },
    {
      "cell_type": "code",
      "source": [
        "spark.sql(\"select * from TablaSQL where Etapa='Adolescente'\").show()"
      ],
      "metadata": {
        "colab": {
          "base_uri": "https://localhost:8080/"
        },
        "id": "KD7f6TmWuOH-",
        "outputId": "9e76b1c8-b7ce-4738-b7e4-551f5a051cbb"
      },
      "execution_count": 20,
      "outputs": [
        {
          "output_type": "stream",
          "name": "stdout",
          "text": [
            "+------+----+-----------+\n",
            "|Nombre|Edad|      Etapa|\n",
            "+------+----+-----------+\n",
            "| Maria|  15|Adolescente|\n",
            "| Sofia|  15|Adolescente|\n",
            "|Helena|  16|Adolescente|\n",
            "|Julian|  17|Adolescente|\n",
            "+------+----+-----------+\n",
            "\n"
          ]
        }
      ]
    },
    {
      "cell_type": "markdown",
      "source": [
        "## RDD Spark\n",
        "\n",
        "**9.- Carge el Fichero [texto.txt](https://github.com/corredor-john/ExploratoryDataAnalisys/blob/f5444496cfbb1a2c2ec2c71592c321e557c0e5ae/Texto/SMSSpamCollection.txt) para ser leido por el contexto SPARK**\n",
        "\n",
        "- Descargue el fichero\n",
        "- Crear el contexto y cargue el fichero\n",
        "\n",
        "\n",
        "\n",
        "```\n",
        "fichero = spark.sparkContext.textFile(\"texto.txt\")\n",
        "\n",
        "counts = (\n",
        "    fichero.flatMap(lambda linea: linea.split(\" \"))\n",
        "    .map(lambda palabra: (palabra, 1))\n",
        "    .reduceByKey(lambda a, b: a + b)\n",
        ")\n",
        "```\n",
        "\n"
      ],
      "metadata": {
        "id": "dadIQP7fIdYZ"
      }
    },
    {
      "cell_type": "code",
      "source": [
        "file_path = \"/content/SMSSpamCollection.txt\"\n",
        "\n",
        "fichero = spark.sparkContext.textFile(file_path)\n",
        "\n",
        "counts = (\n",
        "    fichero.flatMap(lambda linea: linea.split(\" \"))\n",
        "    .map(lambda palabra: (palabra, 1))\n",
        "    .reduceByKey(lambda a, b: a + b)\n",
        ")"
      ],
      "metadata": {
        "id": "KexEowFx9SGJ"
      },
      "execution_count": 26,
      "outputs": []
    },
    {
      "cell_type": "markdown",
      "source": [
        "## **10.- Conclusiones: redacte sus conclusiones por cada paso y conclusión final de Cierre**\n",
        "\n",
        "Este es un ejercicio Util para poner a prueba las bases de como utilizar Spark SQL en un Notebook de jupyter, es un ejercicio util pq se ponen a prueba las habilidades nesesarias para las consultas basicas de sql en spark como por ej:Crear un dataframe, crear un contexto spark, Crear una tabla SQL, Introducir datos nuevos, Visualizar datos especificos de la tabla."
      ],
      "metadata": {
        "id": "QaMp7qVgIOYc"
      }
    }
  ]
}