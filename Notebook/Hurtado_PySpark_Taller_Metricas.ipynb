{
  "nbformat": 4,
  "nbformat_minor": 0,
  "metadata": {
    "colab": {
      "provenance": []
    },
    "kernelspec": {
      "name": "python3",
      "display_name": "Python 3"
    },
    "language_info": {
      "name": "python"
    }
  },
  "cells": [
    {
      "cell_type": "markdown",
      "source": [
        "![LOGO_PUJ.png](data:image/png;base64,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)\n",
        "***Pontificia Universidad Javeriana***\n",
        "# **Procesamiento de Alto Volumen de Datos**\n",
        "\n",
        "### Taller: **Métricas de Rendimiento para Modelos de Clasificación con PySpark**\n",
        "\n",
        "Autor: Ricardo Hurtado\n",
        "\n",
        "Fecha: 19/05/2025\n",
        "\n",
        "**Objetivo**: Evaluar modelo de clasificación MLlib\n",
        "\n",
        "- La clasificación se utiliza para clasificar datos en etiquetas o clases predefinidas. Para evaluar el rendimiento de un modelo de clasificación se suelen utilizar métricas como: accuracy, precision, recall, F1 score y la matriz de confusión. Estas métricas son útiles para evaluar lo bien que el modelo distingue entre clases, especialmente en casos de conjuntos de datos desequilibrados. Al conocer los puntos fuertes y débiles de cada métrica, se podrá seleccionar la más adecuada para un problema de clasificación determinado.\n",
        "\n",
        "- MLlib de PySpark, se presenta un conjunto de clases: BinaryClassificationEvaluator, MulticlassificationEvaluator, y RegressionEvaluator-diseñadas para evaluar el rendimiento de los modelos de aprendizaje automático calculando métricas específicas a partir de predicciones y etiquetas verdaderas. Se utilizan para evaluar modelos entrenados con estimadores como RandomForestClassifier o GBTRegressor, tomando un DataFrame con valores predichos y reales para producir una única puntuación de rendimiento. Ejecutados a través de una SparkSession, aprovechan los ejecutores de Spark para la computación distribuida, lo que los hace ideales para **BIG DATA** de fuentes como archivos CSV o Parquet. Se integran en herramientas de ajuste como CrossValidator y TrainValidationSplit, ofreciendo una solución escalable para la evaluación de modelos.\n",
        "____________________________________________________"
      ],
      "metadata": {
        "id": "jMm8j1zH9nTE"
      }
    },
    {
      "cell_type": "code",
      "execution_count": 4,
      "metadata": {
        "id": "fUJTGTwe5bJ6",
        "colab": {
          "base_uri": "https://localhost:8080/",
          "height": 237
        },
        "outputId": "1add3a74-7a12-4684-88b6-3011a541c908"
      },
      "outputs": [
        {
          "output_type": "stream",
          "name": "stdout",
          "text": [
            "Ejcución de las tareas en  1 core(s) del sistema de cómputo actual\n"
          ]
        },
        {
          "output_type": "execute_result",
          "data": {
            "text/plain": [
              "<pyspark.sql.session.SparkSession at 0x78655705c8d0>"
            ],
            "text/html": [
              "\n",
              "            <div>\n",
              "                <p><b>SparkSession - in-memory</b></p>\n",
              "                \n",
              "        <div>\n",
              "            <p><b>SparkContext</b></p>\n",
              "\n",
              "            <p><a href=\"http://d1535f0e4b58:4040\">Spark UI</a></p>\n",
              "\n",
              "            <dl>\n",
              "              <dt>Version</dt>\n",
              "                <dd><code>v3.5.1</code></dd>\n",
              "              <dt>Master</dt>\n",
              "                <dd><code>local[*]</code></dd>\n",
              "              <dt>AppName</dt>\n",
              "                <dd><code>Taller_Metricas</code></dd>\n",
              "            </dl>\n",
              "        </div>\n",
              "        \n",
              "            </div>\n",
              "        "
            ]
          },
          "metadata": {},
          "execution_count": 4
        }
      ],
      "source": [
        "#Sesion de Spark\n",
        "from pyspark.sql.functions import col, when, avg\n",
        "from pyspark.sql import SparkSession\n",
        "\n",
        "spark = SparkSession.builder.appName(\"Taller_Metricas\").getOrCreate()\n",
        "\n",
        "cores = spark._jsc.sc().getExecutorMemoryStatus().keySet().size()\n",
        "print(\"Ejcución de las tareas en \", cores, \"core(s) del sistema de cómputo actual\")\n",
        "spark"
      ]
    },
    {
      "cell_type": "code",
      "source": [
        "from google.colab import drive\n",
        "drive.mount('/content/drive')"
      ],
      "metadata": {
        "colab": {
          "base_uri": "https://localhost:8080/"
        },
        "id": "EclfnxXAhR1Q",
        "outputId": "85691b7c-cfed-4a00-a1cb-9d031947bca8"
      },
      "execution_count": 3,
      "outputs": [
        {
          "output_type": "stream",
          "name": "stdout",
          "text": [
            "Mounted at /content/drive\n"
          ]
        }
      ]
    },
    {
      "cell_type": "markdown",
      "source": [
        "**2.-Cargar DataFrame Spark:**\n",
        "- Enlace de datos: https://github.com/corredor-john/ExploratoryDataAnalisys/blob/main/Varios/heart_taller_eval_PySpark.csv\n"
      ],
      "metadata": {
        "id": "mx1yUKjD_5-w"
      }
    },
    {
      "cell_type": "code",
      "source": [
        "from pyspark import SparkFiles\n",
        "df00 = spark.read.csv((\"/content/drive/MyDrive/Colab Notebooks/EXTRA/Prosesamiento datos Datasets/heart_taller_eval_PySpark.csv\"),inferSchema=True, header=True)\n",
        "df00.show(5)"
      ],
      "metadata": {
        "id": "C_7uU-OWAeOk",
        "colab": {
          "base_uri": "https://localhost:8080/"
        },
        "outputId": "24d861bf-61f3-4611-9585-07d0570eea54"
      },
      "execution_count": 5,
      "outputs": [
        {
          "output_type": "stream",
          "name": "stdout",
          "text": [
            "+---+---+-------------+---------+-----------+---------+----------+-----+--------------+-------+--------+------------+\n",
            "|Age|Sex|ChestPainType|RestingBP|Cholesterol|FastingBS|RestingECG|MaxHR|ExerciseAngina|Oldpeak|ST_Slope|HeartDisease|\n",
            "+---+---+-------------+---------+-----------+---------+----------+-----+--------------+-------+--------+------------+\n",
            "| 40|  M|          ATA|      140|        289|        0|    Normal|  172|             N|    0.0|      Up|           0|\n",
            "| 49|  F|          NAP|      160|        180|        0|    Normal|  156|             N|    1.0|    Flat|           1|\n",
            "| 37|  M|          ATA|      130|        283|        0|        ST|   98|             N|    0.0|      Up|           0|\n",
            "| 48|  F|          ASY|      138|        214|        0|    Normal|  108|             Y|    1.5|    Flat|           1|\n",
            "| 54|  M|          NAP|      150|        195|        0|    Normal|  122|             N|    0.0|      Up|           0|\n",
            "+---+---+-------------+---------+-----------+---------+----------+-----+--------------+-------+--------+------------+\n",
            "only showing top 5 rows\n",
            "\n"
          ]
        }
      ]
    },
    {
      "cell_type": "markdown",
      "source": [
        "**3.- Revisión de Datos Nulos o Imposibles:**"
      ],
      "metadata": {
        "id": "PM8PKgzJBsAs"
      }
    },
    {
      "cell_type": "code",
      "source": [
        "from pyspark.sql.functions import *\n",
        "\n",
        "df00.select([count(when(col(c).contains('None') |\n",
        "col(c).contains('NULL') |\n",
        "(col(c) == '' ) |\n",
        "col(c).isNull() | isnan(c), c )).alias(c)\n",
        "for c in df00.columns]).show()\n"
      ],
      "metadata": {
        "id": "1sw8T-KPCfMW",
        "colab": {
          "base_uri": "https://localhost:8080/"
        },
        "outputId": "91deaf02-9dca-4fd0-9292-73d502d8d511"
      },
      "execution_count": 6,
      "outputs": [
        {
          "output_type": "stream",
          "name": "stdout",
          "text": [
            "+---+---+-------------+---------+-----------+---------+----------+-----+--------------+-------+--------+------------+\n",
            "|Age|Sex|ChestPainType|RestingBP|Cholesterol|FastingBS|RestingECG|MaxHR|ExerciseAngina|Oldpeak|ST_Slope|HeartDisease|\n",
            "+---+---+-------------+---------+-----------+---------+----------+-----+--------------+-------+--------+------------+\n",
            "|  0|  0|            0|        0|          0|        0|         0|    0|             0|      0|       0|           0|\n",
            "+---+---+-------------+---------+-----------+---------+----------+-----+--------------+-------+--------+------------+\n",
            "\n"
          ]
        }
      ]
    },
    {
      "cell_type": "markdown",
      "source": [
        "no se hayan datos nulos"
      ],
      "metadata": {
        "id": "cM_QDvjv75pZ"
      }
    },
    {
      "cell_type": "markdown",
      "source": [
        "**4.- Relación entre las variables**\n",
        "- Escriba algunas apreciaciones de las relaciones\n"
      ],
      "metadata": {
        "id": "WmfamSKBDVkV"
      }
    },
    {
      "cell_type": "code",
      "source": [
        "import matplotlib.pyplot as plt\n",
        "import seaborn as sns\n",
        "import numpy as np\n",
        "\n",
        "plt.figure(figsize =(10,8))\n",
        "vista_pandas = df00.toPandas()\n",
        "sns.heatmap(vista_pandas.select_dtypes(np.number).corr(), annot=True, center=0, cmap ='RdYlGn')"
      ],
      "metadata": {
        "id": "yjmuNTMqDNPR",
        "colab": {
          "base_uri": "https://localhost:8080/",
          "height": 699
        },
        "outputId": "1dafd35f-172f-4487-f103-2c84bdc6254c"
      },
      "execution_count": 7,
      "outputs": [
        {
          "output_type": "execute_result",
          "data": {
            "text/plain": [
              "<Axes: >"
            ]
          },
          "metadata": {},
          "execution_count": 7
        },
        {
          "output_type": "display_data",
          "data": {
            "text/plain": [
              "<Figure size 1000x800 with 2 Axes>"
            ],
            "image/png": "[encoded data removed]"
          },
          "metadata": {}
        }
      ]
    },
    {
      "cell_type": "markdown",
      "source": [
        "Oldpeak (0.40), tiene correlación positiva moderada. A mayor Oldpeak, mayor probabilidad de enfermedad cardíaca. FastingBS (0.27) y Age (0.28) también muestran relaciones positivas, aunque más débiles.  En el caso de la edad esto nos muestra que a mayor edad mas probabbilidad de que haya problemas de corazon. tambien tenemos una relacion negativa fuerte MaxHR (-0.40),  que indica que a mayor frecuencia cardíaca máxima alcanzada, menor probabilidad de enfermedad cardíaca."
      ],
      "metadata": {
        "id": "ZG9-ub7N8Vfo"
      }
    },
    {
      "cell_type": "markdown",
      "source": [
        "### Ingeniería de características\n",
        "\n",
        "**5.- Consulte los tipos de datos**\n",
        "\n",
        "\n",
        "\n",
        "```\n",
        "dfBog.dtypes\n",
        "```"
      ],
      "metadata": {
        "id": "9HT_eOz3ELy-"
      }
    },
    {
      "cell_type": "code",
      "source": [
        "df00.dtypes"
      ],
      "metadata": {
        "id": "SoULLyiaEzEB",
        "colab": {
          "base_uri": "https://localhost:8080/"
        },
        "outputId": "2cf6d36f-4abb-47b0-f543-1daf0ee350bc"
      },
      "execution_count": 8,
      "outputs": [
        {
          "output_type": "execute_result",
          "data": {
            "text/plain": [
              "[('Age', 'int'),\n",
              " ('Sex', 'string'),\n",
              " ('ChestPainType', 'string'),\n",
              " ('RestingBP', 'int'),\n",
              " ('Cholesterol', 'int'),\n",
              " ('FastingBS', 'int'),\n",
              " ('RestingECG', 'string'),\n",
              " ('MaxHR', 'int'),\n",
              " ('ExerciseAngina', 'string'),\n",
              " ('Oldpeak', 'double'),\n",
              " ('ST_Slope', 'string'),\n",
              " ('HeartDisease', 'int')]"
            ]
          },
          "metadata": {},
          "execution_count": 8
        }
      ]
    },
    {
      "cell_type": "markdown",
      "source": [
        "**6.- Funciones para datos ETIQUETAS o categorías a Numéricos**\n",
        "- 6.1: Imprimir todas las columnas de Etiquetas del tipo string\n"
      ],
      "metadata": {
        "id": "rOWfBfseExTS"
      }
    },
    {
      "cell_type": "code",
      "source": [
        "df00.select('Sex').distinct().show()\n",
        "df00.select('ChestPainType').distinct().show()\n",
        "df00.select('RestingECG').distinct().show()\n",
        "df00.select('ExerciseAngina').distinct().show()\n",
        "df00.select('ST_Slope').distinct().show()"
      ],
      "metadata": {
        "id": "qnHAmmT8I-EF",
        "colab": {
          "base_uri": "https://localhost:8080/"
        },
        "outputId": "0f3ffa7e-9236-48bc-a414-a544f6f32e6f"
      },
      "execution_count": 9,
      "outputs": [
        {
          "output_type": "stream",
          "name": "stdout",
          "text": [
            "+---+\n",
            "|Sex|\n",
            "+---+\n",
            "|  F|\n",
            "|  M|\n",
            "+---+\n",
            "\n",
            "+-------------+\n",
            "|ChestPainType|\n",
            "+-------------+\n",
            "|          NAP|\n",
            "|          ATA|\n",
            "|           TA|\n",
            "|          ASY|\n",
            "+-------------+\n",
            "\n",
            "+----------+\n",
            "|RestingECG|\n",
            "+----------+\n",
            "|       LVH|\n",
            "|    Normal|\n",
            "|        ST|\n",
            "+----------+\n",
            "\n",
            "+--------------+\n",
            "|ExerciseAngina|\n",
            "+--------------+\n",
            "|             Y|\n",
            "|             N|\n",
            "+--------------+\n",
            "\n",
            "+--------+\n",
            "|ST_Slope|\n",
            "+--------+\n",
            "|    Flat|\n",
            "|      Up|\n",
            "|    Down|\n",
            "+--------+\n",
            "\n"
          ]
        }
      ]
    },
    {
      "cell_type": "markdown",
      "source": [
        "- 6.2: Usar la función para cambiar a dato numéricos\n",
        "\n"
      ],
      "metadata": {
        "id": "2ETI4HCZKWu4"
      }
    },
    {
      "cell_type": "code",
      "source": [
        "from pyspark.sql.types import *\n",
        "from pyspark.ml.feature import StringIndexer\n",
        "from pyspark.ml.feature import VectorAssembler\n",
        "from pyspark.sql.functions import when\n",
        "\n",
        "def fun_Etiquetas(df):\n",
        "    trans_df = df.select(\"*\",(when(df.ExerciseAngina=='Y', 1).otherwise(0)).alias('yes_exercise_angina')\n",
        "                 ,(when(df.ChestPainType=='ATA', 1).otherwise(0)).alias('ata_chest_pain_type')\n",
        "              ,(when(df.ChestPainType=='ASY', 1).otherwise(0)).alias('asy_chest_pain_type')\n",
        "              ,(when(df.ST_Slope=='Up', 1).otherwise(0)).alias('up_st_slope')\n",
        "              ,(when(df.Sex=='F', 1).otherwise(0)).alias('f_sex')\n",
        "              ,(when(df.RestingECG=='ST', 1).otherwise(0)).alias('st_resting_ecg')\n",
        "                 ).drop('ExerciseAngina','ChestPainType', 'ST_Slope', 'Sex', 'RestingECG').withColumnRenamed(\"HeartDisease\", 'label')\n",
        "\n",
        "    features_list = trans_df.columns\n",
        "    print(features_list)\n",
        "    features_list.remove('label')\n",
        "    assembler = VectorAssembler(inputCols=features_list,outputCol='features')\n",
        "    vector_trans_df = assembler.transform(trans_df).select('features','label')\n",
        "\n",
        "    return vector_trans_df, trans_df\n",
        "\n",
        "\n",
        "vector_trans_df, trans_df = fun_Etiquetas(df00)"
      ],
      "metadata": {
        "id": "FvqeYvu3HdWp",
        "colab": {
          "base_uri": "https://localhost:8080/"
        },
        "outputId": "f3fd44d5-63c5-4f28-bee9-635b433c54d0"
      },
      "execution_count": 10,
      "outputs": [
        {
          "output_type": "stream",
          "name": "stdout",
          "text": [
            "['Age', 'RestingBP', 'Cholesterol', 'FastingBS', 'MaxHR', 'Oldpeak', 'label', 'yes_exercise_angina', 'ata_chest_pain_type', 'asy_chest_pain_type', 'up_st_slope', 'f_sex', 'st_resting_ecg']\n"
          ]
        }
      ]
    },
    {
      "cell_type": "markdown",
      "source": [
        "6.3.- Imprimir 5 primeros valores de la transformación a vectores\n",
        "\n",
        "```\n",
        "vector_trans_df.show(n, False)\n",
        "\n",
        "```"
      ],
      "metadata": {
        "id": "xNtK8d_BMHf8"
      }
    },
    {
      "cell_type": "code",
      "source": [
        "vector_trans_df.show(5, False)"
      ],
      "metadata": {
        "id": "nImAZzWKMjJc",
        "colab": {
          "base_uri": "https://localhost:8080/"
        },
        "outputId": "74cd9904-fe36-4fcb-f2a2-aba0e1fa2310"
      },
      "execution_count": 11,
      "outputs": [
        {
          "output_type": "stream",
          "name": "stdout",
          "text": [
            "+--------------------------------------------------------+-----+\n",
            "|features                                                |label|\n",
            "+--------------------------------------------------------+-----+\n",
            "|(12,[0,1,2,4,7,9],[40.0,140.0,289.0,172.0,1.0,1.0])     |0    |\n",
            "|(12,[0,1,2,4,5,10],[49.0,160.0,180.0,156.0,1.0,1.0])    |1    |\n",
            "|[37.0,130.0,283.0,0.0,98.0,0.0,0.0,1.0,0.0,1.0,0.0,1.0] |0    |\n",
            "|[48.0,138.0,214.0,0.0,108.0,1.5,1.0,0.0,1.0,0.0,1.0,0.0]|1    |\n",
            "|(12,[0,1,2,4,9],[54.0,150.0,195.0,122.0,1.0])           |0    |\n",
            "+--------------------------------------------------------+-----+\n",
            "only showing top 5 rows\n",
            "\n"
          ]
        }
      ]
    },
    {
      "cell_type": "markdown",
      "source": [
        "**7.- División de Datos Entrenamiento y Prueba**\n",
        "\n"
      ],
      "metadata": {
        "id": "6iupKCo3F6fs"
      }
    },
    {
      "cell_type": "code",
      "source": [
        "train, test = vector_trans_df.randomSplit([0.7,0.3], seed = 13)"
      ],
      "metadata": {
        "id": "BoUL-8QXM4nb"
      },
      "execution_count": 12,
      "outputs": []
    },
    {
      "cell_type": "markdown",
      "source": [
        "**8.- Consulta: Escriba sus apreciaciones sobre el balanceo de los datos, en Entrenamiento y en los de Prueba**\n",
        "\n",
        "\n"
      ],
      "metadata": {
        "id": "ns6BbXgdHiB_"
      }
    },
    {
      "cell_type": "code",
      "source": [
        "total=float(train.select(\"label\").count())\n",
        "Positivos=train.select(\"label\").where('label == 1').count()\n",
        "porcentaje=(float(Positivos)/float(total))*100\n",
        "total=float(train.select(\"label\").count())\n",
        "Positivos=train.select(\"label\").where('label == 1').count()\n",
        "porcentaje=(float(Positivos)/float(total))*100\n",
        "Negativos=float(total - Positivos)\n",
        "print('Cantidad de positivos {}'.format(Positivos))\n",
        "print('Percentaje de positivos {}'.format(porcentaje))"
      ],
      "metadata": {
        "id": "YIhwG_46N250",
        "colab": {
          "base_uri": "https://localhost:8080/"
        },
        "outputId": "bcfb1a7d-cc9a-46b0-a1bc-6cb63b43bd27"
      },
      "execution_count": 13,
      "outputs": [
        {
          "output_type": "stream",
          "name": "stdout",
          "text": [
            "Cantidad de positivos 359\n",
            "Percentaje de positivos 53.9039039039039\n"
          ]
        }
      ]
    },
    {
      "cell_type": "markdown",
      "source": [
        "El porcentaje de positivos es cercano al 50%, lo que indica que las clases están equilibradas. eso es nesesario porque asi el modelo no va a predecir una clase mas que la otra solo por mayoria de casos, sino buscando patrones."
      ],
      "metadata": {
        "id": "37ZVvrHa9f7v"
      }
    },
    {
      "cell_type": "markdown",
      "source": [
        "## Modelado\n",
        "\n",
        "**9.- Modelo a seguir es de árboles de decisiones**\n"
      ],
      "metadata": {
        "id": "dadIQP7fIdYZ"
      }
    },
    {
      "cell_type": "code",
      "source": [
        "from pyspark.ml.classification import DecisionTreeClassifier\n",
        "\n",
        "parametros = {'maxDepth':4}\n",
        "\n",
        "clasificador = DecisionTreeClassifier(**parametros, seed= 13)\n",
        "\n",
        "modeloArboles = clasificador.fit(train)"
      ],
      "metadata": {
        "id": "KexEowFx9SGJ"
      },
      "execution_count": 14,
      "outputs": []
    },
    {
      "cell_type": "markdown",
      "source": [
        "**10.- Predicciones sobre los datos de prueba**\n",
        "\n"
      ],
      "metadata": {
        "id": "51MydsfWRoP9"
      }
    },
    {
      "cell_type": "code",
      "source": [
        "prediccionesPrueba = modeloArboles.transform(test)\n",
        "prediccionesPrueba.show(2, False)"
      ],
      "metadata": {
        "id": "IAMO_xERRnu2",
        "colab": {
          "base_uri": "https://localhost:8080/"
        },
        "outputId": "115685cb-e6eb-445b-b6b6-3b8e6dc4d0c3"
      },
      "execution_count": 56,
      "outputs": [
        {
          "output_type": "stream",
          "name": "stdout",
          "text": [
            "+---------------------------------------------------+-----+-------------+---------------------------------------+----------+\n",
            "|features                                           |label|rawPrediction|probability                            |prediction|\n",
            "+---------------------------------------------------+-----+-------------+---------------------------------------+----------+\n",
            "|(12,[0,1,2,3,4],[74.0,140.0,237.0,1.0,94.0])       |1    |[9.0,36.0]   |[0.2,0.8]                              |1.0       |\n",
            "|(12,[0,1,2,3,4,5],[52.0,152.0,298.0,1.0,178.0,1.2])|0    |[6.0,15.0]   |[0.2857142857142857,0.7142857142857143]|1.0       |\n",
            "+---------------------------------------------------+-----+-------------+---------------------------------------+----------+\n",
            "only showing top 2 rows\n",
            "\n"
          ]
        }
      ]
    },
    {
      "cell_type": "markdown",
      "source": [
        "##**11.- Evaluación de Modelo de Clasificación**\n",
        "\n"
      ],
      "metadata": {
        "id": "EDShDkwKSO9Z"
      }
    },
    {
      "cell_type": "code",
      "source": [
        "matrzC_prueba = prediccionesPrueba.crosstab(\"prediction\", \"label\")\n",
        "matrzC_prueba = matrzC_prueba.toPandas()\n",
        "matrzC_prueba.sort_values(by = ['prediction_label'])"
      ],
      "metadata": {
        "id": "hx-yolwwT7vJ",
        "colab": {
          "base_uri": "https://localhost:8080/",
          "height": 112
        },
        "outputId": "d88476fc-0261-4639-9084-5f9b2fbd9395"
      },
      "execution_count": 57,
      "outputs": [
        {
          "output_type": "execute_result",
          "data": {
            "text/plain": [
              "  prediction_label   0    1\n",
              "1              0.0  82   27\n",
              "0              1.0  21  122"
            ],
            "text/html": [
              "\n",
              "  <div id=\"df-d0dc95f4-89c0-4a9f-9c8a-ef822070d2e8\" class=\"colab-df-container\">\n",
              "    <div>\n",
              "<style scoped>\n",
              "    .dataframe tbody tr th:only-of-type {\n",
              "        vertical-align: middle;\n",
              "    }\n",
              "\n",
              "    .dataframe tbody tr th {\n",
              "        vertical-align: top;\n",
              "    }\n",
              "\n",
              "    .dataframe thead th {\n",
              "        text-align: right;\n",
              "    }\n",
              "</style>\n",
              "<table border=\"1\" class=\"dataframe\">\n",
              "  <thead>\n",
              "    <tr style=\"text-align: right;\">\n",
              "      <th></th>\n",
              "      <th>prediction_label</th>\n",
              "      <th>0</th>\n",
              "      <th>1</th>\n",
              "    </tr>\n",
              "  </thead>\n",
              "  <tbody>\n",
              "    <tr>\n",
              "      <th>1</th>\n",
              "      <td>0.0</td>\n",
              "      <td>82</td>\n",
              "      <td>27</td>\n",
              "    </tr>\n",
              "    <tr>\n",
              "      <th>0</th>\n",
              "      <td>1.0</td>\n",
              "      <td>21</td>\n",
              "      <td>122</td>\n",
              "    </tr>\n",
              "  </tbody>\n",
              "</table>\n",
              "</div>\n",
              "    <div class=\"colab-df-buttons\">\n",
              "\n",
              "  <div class=\"colab-df-container\">\n",
              "    <button class=\"colab-df-convert\" onclick=\"convertToInteractive('df-d0dc95f4-89c0-4a9f-9c8a-ef822070d2e8')\"\n",
              "            title=\"Convert this dataframe to an interactive table.\"\n",
              "            style=\"display:none;\">\n",
              "\n",
              "  <svg xmlns=\"http://www.w3.org/2000/svg\" height=\"24px\" viewBox=\"0 -960 960 960\">\n",
              "    <path d=\"M120-120v-720h720v720H120Zm60-500h600v-160H180v160Zm220 220h160v-160H400v160Zm0 220h160v-160H400v160ZM180-400h160v-160H180v160Zm440 0h160v-160H620v160ZM180-180h160v-160H180v160Zm440 0h160v-160H620v160Z\"/>\n",
              "  </svg>\n",
              "    </button>\n",
              "\n",
              "  <style>\n",
              "    .colab-df-container {\n",
              "      display:flex;\n",
              "      gap: 12px;\n",
              "    }\n",
              "\n",
              "    .colab-df-convert {\n",
              "      background-color: #E8F0FE;\n",
              "      border: none;\n",
              "      border-radius: 50%;\n",
              "      cursor: pointer;\n",
              "      display: none;\n",
              "      fill: #1967D2;\n",
              "      height: 32px;\n",
              "      padding: 0 0 0 0;\n",
              "      width: 32px;\n",
              "    }\n",
              "\n",
              "    .colab-df-convert:hover {\n",
              "      background-color: #E2EBFA;\n",
              "      box-shadow: 0px 1px 2px rgba(60, 64, 67, 0.3), 0px 1px 3px 1px rgba(60, 64, 67, 0.15);\n",
              "      fill: #174EA6;\n",
              "    }\n",
              "\n",
              "    .colab-df-buttons div {\n",
              "      margin-bottom: 4px;\n",
              "    }\n",
              "\n",
              "    [theme=dark] .colab-df-convert {\n",
              "      background-color: #3B4455;\n",
              "      fill: #D2E3FC;\n",
              "    }\n",
              "\n",
              "    [theme=dark] .colab-df-convert:hover {\n",
              "      background-color: #434B5C;\n",
              "      box-shadow: 0px 1px 3px 1px rgba(0, 0, 0, 0.15);\n",
              "      filter: drop-shadow(0px 1px 2px rgba(0, 0, 0, 0.3));\n",
              "      fill: #FFFFFF;\n",
              "    }\n",
              "  </style>\n",
              "\n",
              "    <script>\n",
              "      const buttonEl =\n",
              "        document.querySelector('#df-d0dc95f4-89c0-4a9f-9c8a-ef822070d2e8 button.colab-df-convert');\n",
              "      buttonEl.style.display =\n",
              "        google.colab.kernel.accessAllowed ? 'block' : 'none';\n",
              "\n",
              "      async function convertToInteractive(key) {\n",
              "        const element = document.querySelector('#df-d0dc95f4-89c0-4a9f-9c8a-ef822070d2e8');\n",
              "        const dataTable =\n",
              "          await google.colab.kernel.invokeFunction('convertToInteractive',\n",
              "                                                    [key], {});\n",
              "        if (!dataTable) return;\n",
              "\n",
              "        const docLinkHtml = 'Like what you see? Visit the ' +\n",
              "          '<a target=\"_blank\" href=https://colab.research.google.com/notebooks/data_table.ipynb>data table notebook</a>'\n",
              "          + ' to learn more about interactive tables.';\n",
              "        element.innerHTML = '';\n",
              "        dataTable['output_type'] = 'display_data';\n",
              "        await google.colab.output.renderOutput(dataTable, element);\n",
              "        const docLink = document.createElement('div');\n",
              "        docLink.innerHTML = docLinkHtml;\n",
              "        element.appendChild(docLink);\n",
              "      }\n",
              "    </script>\n",
              "  </div>\n",
              "\n",
              "\n",
              "    <div id=\"df-1ee890c8-12b4-48ef-8685-be47c1975c1e\">\n",
              "      <button class=\"colab-df-quickchart\" onclick=\"quickchart('df-1ee890c8-12b4-48ef-8685-be47c1975c1e')\"\n",
              "                title=\"Suggest charts\"\n",
              "                style=\"display:none;\">\n",
              "\n",
              "<svg xmlns=\"http://www.w3.org/2000/svg\" height=\"24px\"viewBox=\"0 0 24 24\"\n",
              "     width=\"24px\">\n",
              "    <g>\n",
              "        <path d=\"M19 3H5c-1.1 0-2 .9-2 2v14c0 1.1.9 2 2 2h14c1.1 0 2-.9 2-2V5c0-1.1-.9-2-2-2zM9 17H7v-7h2v7zm4 0h-2V7h2v10zm4 0h-2v-4h2v4z\"/>\n",
              "    </g>\n",
              "</svg>\n",
              "      </button>\n",
              "\n",
              "<style>\n",
              "  .colab-df-quickchart {\n",
              "      --bg-color: #E8F0FE;\n",
              "      --fill-color: #1967D2;\n",
              "      --hover-bg-color: #E2EBFA;\n",
              "      --hover-fill-color: #174EA6;\n",
              "      --disabled-fill-color: #AAA;\n",
              "      --disabled-bg-color: #DDD;\n",
              "  }\n",
              "\n",
              "  [theme=dark] .colab-df-quickchart {\n",
              "      --bg-color: #3B4455;\n",
              "      --fill-color: #D2E3FC;\n",
              "      --hover-bg-color: #434B5C;\n",
              "      --hover-fill-color: #FFFFFF;\n",
              "      --disabled-bg-color: #3B4455;\n",
              "      --disabled-fill-color: #666;\n",
              "  }\n",
              "\n",
              "  .colab-df-quickchart {\n",
              "    background-color: var(--bg-color);\n",
              "    border: none;\n",
              "    border-radius: 50%;\n",
              "    cursor: pointer;\n",
              "    display: none;\n",
              "    fill: var(--fill-color);\n",
              "    height: 32px;\n",
              "    padding: 0;\n",
              "    width: 32px;\n",
              "  }\n",
              "\n",
              "  .colab-df-quickchart:hover {\n",
              "    background-color: var(--hover-bg-color);\n",
              "    box-shadow: 0 1px 2px rgba(60, 64, 67, 0.3), 0 1px 3px 1px rgba(60, 64, 67, 0.15);\n",
              "    fill: var(--button-hover-fill-color);\n",
              "  }\n",
              "\n",
              "  .colab-df-quickchart-complete:disabled,\n",
              "  .colab-df-quickchart-complete:disabled:hover {\n",
              "    background-color: var(--disabled-bg-color);\n",
              "    fill: var(--disabled-fill-color);\n",
              "    box-shadow: none;\n",
              "  }\n",
              "\n",
              "  .colab-df-spinner {\n",
              "    border: 2px solid var(--fill-color);\n",
              "    border-color: transparent;\n",
              "    border-bottom-color: var(--fill-color);\n",
              "    animation:\n",
              "      spin 1s steps(1) infinite;\n",
              "  }\n",
              "\n",
              "  @keyframes spin {\n",
              "    0% {\n",
              "      border-color: transparent;\n",
              "      border-bottom-color: var(--fill-color);\n",
              "      border-left-color: var(--fill-color);\n",
              "    }\n",
              "    20% {\n",
              "      border-color: transparent;\n",
              "      border-left-color: var(--fill-color);\n",
              "      border-top-color: var(--fill-color);\n",
              "    }\n",
              "    30% {\n",
              "      border-color: transparent;\n",
              "      border-left-color: var(--fill-color);\n",
              "      border-top-color: var(--fill-color);\n",
              "      border-right-color: var(--fill-color);\n",
              "    }\n",
              "    40% {\n",
              "      border-color: transparent;\n",
              "      border-right-color: var(--fill-color);\n",
              "      border-top-color: var(--fill-color);\n",
              "    }\n",
              "    60% {\n",
              "      border-color: transparent;\n",
              "      border-right-color: var(--fill-color);\n",
              "    }\n",
              "    80% {\n",
              "      border-color: transparent;\n",
              "      border-right-color: var(--fill-color);\n",
              "      border-bottom-color: var(--fill-color);\n",
              "    }\n",
              "    90% {\n",
              "      border-color: transparent;\n",
              "      border-bottom-color: var(--fill-color);\n",
              "    }\n",
              "  }\n",
              "</style>\n",
              "\n",
              "      <script>\n",
              "        async function quickchart(key) {\n",
              "          const quickchartButtonEl =\n",
              "            document.querySelector('#' + key + ' button');\n",
              "          quickchartButtonEl.disabled = true;  // To prevent multiple clicks.\n",
              "          quickchartButtonEl.classList.add('colab-df-spinner');\n",
              "          try {\n",
              "            const charts = await google.colab.kernel.invokeFunction(\n",
              "                'suggestCharts', [key], {});\n",
              "          } catch (error) {\n",
              "            console.error('Error during call to suggestCharts:', error);\n",
              "          }\n",
              "          quickchartButtonEl.classList.remove('colab-df-spinner');\n",
              "          quickchartButtonEl.classList.add('colab-df-quickchart-complete');\n",
              "        }\n",
              "        (() => {\n",
              "          let quickchartButtonEl =\n",
              "            document.querySelector('#df-1ee890c8-12b4-48ef-8685-be47c1975c1e button');\n",
              "          quickchartButtonEl.style.display =\n",
              "            google.colab.kernel.accessAllowed ? 'block' : 'none';\n",
              "        })();\n",
              "      </script>\n",
              "    </div>\n",
              "\n",
              "    </div>\n",
              "  </div>\n"
            ],
            "application/vnd.google.colaboratory.intrinsic+json": {
              "type": "dataframe",
              "summary": "{\n  \"name\": \"matrzC_prueba\",\n  \"rows\": 2,\n  \"fields\": [\n    {\n      \"column\": \"prediction_label\",\n      \"properties\": {\n        \"dtype\": \"string\",\n        \"num_unique_values\": 2,\n        \"samples\": [\n          \"1.0\",\n          \"0.0\"\n        ],\n        \"semantic_type\": \"\",\n        \"description\": \"\"\n      }\n    },\n    {\n      \"column\": \"0\",\n      \"properties\": {\n        \"dtype\": \"number\",\n        \"std\": 43,\n        \"min\": 21,\n        \"max\": 82,\n        \"num_unique_values\": 2,\n        \"samples\": [\n          21,\n          82\n        ],\n        \"semantic_type\": \"\",\n        \"description\": \"\"\n      }\n    },\n    {\n      \"column\": \"1\",\n      \"properties\": {\n        \"dtype\": \"number\",\n        \"std\": 67,\n        \"min\": 27,\n        \"max\": 122,\n        \"num_unique_values\": 2,\n        \"samples\": [\n          122,\n          27\n        ],\n        \"semantic_type\": \"\",\n        \"description\": \"\"\n      }\n    }\n  ]\n}"
            }
          },
          "metadata": {},
          "execution_count": 57
        }
      ]
    },
    {
      "cell_type": "markdown",
      "source": [
        "\n",
        "- Imprima las métricas a continuación en (0.00%), escriba sus apreciaciones\n"
      ],
      "metadata": {
        "id": "gNWpTGWHTqId"
      }
    },
    {
      "cell_type": "code",
      "source": [
        "TP = matrzC_prueba[\"1\"][0]\n",
        "FP = matrzC_prueba[\"0\"][0]\n",
        "TN = matrzC_prueba[\"0\"][1]\n",
        "FN = matrzC_prueba[\"1\"][1]\n",
        "Accuracy = (TP+TN)/(TP+FP+TN+FN)     # Exactitud global del modelo\n",
        "Sensitivity = TP/(TP+FN)             # Recall o Tasa de verdaderos positivos\n",
        "Specificity = TN/(TN+FP)             # Tasa de verdaderos negativos\n",
        "Precision = TP/(TP+FP)               # Precisión (positivos predichos que son correctos)\n",
        "\n",
        "print(f\"Accuracy = {np.round(Accuracy,2)*100}%\")\n",
        "print(f\"Sensitivity = {np.round(Sensitivity,2)*100}%\")\n",
        "print(f\"Specificity = {np.round(Specificity,2)*100}%\")\n",
        "print(f\"Precision = {np.round(Precision,2)*100}%\")"
      ],
      "metadata": {
        "id": "rdJr7oj1SOlB",
        "colab": {
          "base_uri": "https://localhost:8080/"
        },
        "outputId": "09434de7-d648-46ec-9516-9fac6e085876"
      },
      "execution_count": 17,
      "outputs": [
        {
          "output_type": "stream",
          "name": "stdout",
          "text": [
            "Accuracy = 81.0%\n",
            "Sensitivity = 82.0%\n",
            "Specificity = 80.0%\n",
            "Precision = 85.0%\n"
          ]
        }
      ]
    },
    {
      "cell_type": "code",
      "source": [
        "from pyspark.ml.evaluation import BinaryClassificationEvaluator\n",
        "\n",
        "evaluator = BinaryClassificationEvaluator(\n",
        "    labelCol=\"label\", rawPredictionCol=\"rawPrediction\", metricName=\"areaUnderROC\")\n",
        "\n",
        "auc = evaluator.evaluate(prediccionesPrueba)\n",
        "print(f\"Área bajo la curva ROC (AUC): {auc:.4f}\")\n"
      ],
      "metadata": {
        "colab": {
          "base_uri": "https://localhost:8080/"
        },
        "id": "3U8C51ihKUgh",
        "outputId": "7c14c816-271a-4e23-a308-c54eeb131141"
      },
      "execution_count": 58,
      "outputs": [
        {
          "output_type": "stream",
          "name": "stdout",
          "text": [
            "Área bajo la curva ROC (AUC): 0.8710\n"
          ]
        }
      ]
    },
    {
      "cell_type": "code",
      "source": [
        "import matplotlib.pyplot as plt\n",
        "\n",
        "plt.figure(figsize=(8, 6))\n",
        "plt.plot(fpr, tpr, label=\"Curva ROC\")\n",
        "plt.plot([0, 1], [0, 1], 'r--', label=\"Clasificador aleatorio\")\n",
        "plt.xlabel(\"Tasa de falsos positivos\")\n",
        "plt.ylabel(\"Tasa de verdaderos positivos\")\n",
        "plt.title(\"Curva ROC (Spark MLlib)\")\n",
        "plt.legend()\n",
        "plt.grid(True)\n",
        "plt.show()\n"
      ],
      "metadata": {
        "colab": {
          "base_uri": "https://localhost:8080/",
          "height": 564
        },
        "id": "37w58sVLRgIw",
        "outputId": "690a1af8-7f45-466e-afc4-a899fa829cee"
      },
      "execution_count": 63,
      "outputs": [
        {
          "output_type": "display_data",
          "data": {
            "text/plain": [
              "<Figure size 800x600 with 1 Axes>"
            ],
            "image/png": "[encoded data removed]"
          },
          "metadata": {}
        }
      ]
    },
    {
      "cell_type": "markdown",
      "source": [
        "**12.- Terminar sesión SPARK**\n",
        "\n",
        "```\n",
        "spark.stop()\n",
        "```"
      ],
      "metadata": {
        "id": "gxxYsasOY8jd"
      }
    },
    {
      "cell_type": "code",
      "source": [
        "#spark.stop()"
      ],
      "metadata": {
        "id": "1CSKuyS5ZRVR"
      },
      "execution_count": null,
      "outputs": []
    },
    {
      "cell_type": "markdown",
      "source": [
        "## **12.- Conclusiones: redacte sus conclusiones por cada paso y conclusión final de Cierre**\n",
        "\n",
        "se puede observar que el modelo tuvo una Exactitud(Accuracy) de 81% esto nos dice que fue un modelo de alta exactitud puesto que fue cercana al 100%, es decir que el modelo predijo correctamente con exactitud un 81% de los valores. lo que indica que logra predecir correctamente más de 8 de cada 10 casos. Este resultado sugiere un desempeño alto en su tarea de clasificar valores. La sensibilidad refleja que el modelo identifica correctamente el 82% de los casos positivos reales. Con una especificidad del 80.0%, el modelo también es competente en identificar correctamente los casos negativos, lo que ayuda a evitar falsos positivos. La precisión del 85.0% indica que, entre todas las instancias que el modelo clasificó como positivas, el 85% eran realmente positivas. El valor del Área Bajo la Curva (AUC) es de 0.8710, lo cual representa una excelente capacidad del modelo para discriminar entre las clases. Cuanto más cerca de 1, mejor es el modelo, y un AUC por encima de 0.85 se considera muy bueno.\n",
        "\n",
        "En conjunto, los resultados indican que el modelo tiene un desempeño equilibrado y eficaz tanto en la detección de positivos como de negativos. teniendo  alta precisión, buena sensibilidad, especificidad y un AUC superior a 0.87 demuestra que el modelo fue entrenado correctamente y puede ser usado para poder predecir correctamente si un paciente podria llegar a tener una Enfermedad Cardiaca.\n"
      ],
      "metadata": {
        "id": "QaMp7qVgIOYc"
      }
    }
  ]
}